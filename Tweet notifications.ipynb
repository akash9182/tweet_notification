{
 "cells": [
  {
   "cell_type": "code",
   "execution_count": 163,
   "id": "345ef902",
   "metadata": {},
   "outputs": [],
   "source": [
    "import twint\n",
    "import pandas as pd\n",
    "import nest_asyncio\n",
    "nest_asyncio.apply()\n",
    "import re\n",
    "import matplotlib.pyplot as plt\n",
    "from textblob import TextBlob\n",
    "import datetime"
   ]
  },
  {
   "cell_type": "code",
   "execution_count": 168,
   "id": "9c663d17",
   "metadata": {},
   "outputs": [],
   "source": [
    "# Functions\n",
    "def twint_to_pandas(columns): #Creds to Favio Vazques\n",
    "    return twint.output.panda.Tweets_df[columns]\n",
    "\n",
    "def getTweets(username): #runs a twint search and returns a pandas df\n",
    "    c = twint.Config()\n",
    "#     c.Search= str(st)\n",
    "    c.Username = username \n",
    "    c.Limit = 2000\n",
    "    c.Hide_output = True\n",
    "    c.Pandas = True\n",
    "    c.Since = now_time = datetime.datetime.now().strftime(\"%Y-%m-%d\")\n",
    "    twint.run.Search(c)\n",
    "    \n",
    "    df = twint_to_pandas([\"date\", \"username\", \"tweet\"])\n",
    "    return df    \n"
   ]
  },
  {
   "cell_type": "code",
   "execution_count": 169,
   "id": "38eae3ec",
   "metadata": {},
   "outputs": [
    {
     "name": "stdout",
     "output_type": "stream",
     "text": [
      "[!] No more data! Scraping will stop now.\n",
      "found 0 deleted tweets in this search.\n"
     ]
    }
   ],
   "source": [
    "df = getTweets(\"MrZackMorris\")"
   ]
  },
  {
   "cell_type": "code",
   "execution_count": 170,
   "id": "4db90be3",
   "metadata": {},
   "outputs": [
    {
     "data": {
      "text/html": [
       "<div>\n",
       "<style scoped>\n",
       "    .dataframe tbody tr th:only-of-type {\n",
       "        vertical-align: middle;\n",
       "    }\n",
       "\n",
       "    .dataframe tbody tr th {\n",
       "        vertical-align: top;\n",
       "    }\n",
       "\n",
       "    .dataframe thead th {\n",
       "        text-align: right;\n",
       "    }\n",
       "</style>\n",
       "<table border=\"1\" class=\"dataframe\">\n",
       "  <thead>\n",
       "    <tr style=\"text-align: right;\">\n",
       "      <th></th>\n",
       "      <th>date</th>\n",
       "      <th>username</th>\n",
       "      <th>tweet</th>\n",
       "    </tr>\n",
       "  </thead>\n",
       "  <tbody>\n",
       "    <tr>\n",
       "      <th>0</th>\n",
       "      <td>2021-10-01 17:08:01</td>\n",
       "      <td>MrZackMorris</td>\n",
       "      <td>@MTradess  https://t.co/z4GbUFyfCz</td>\n",
       "    </tr>\n",
       "    <tr>\n",
       "      <th>1</th>\n",
       "      <td>2021-10-01 17:03:43</td>\n",
       "      <td>MrZackMorris</td>\n",
       "      <td>@jbsteelers36 I do that all the time because e...</td>\n",
       "    </tr>\n",
       "    <tr>\n",
       "      <th>2</th>\n",
       "      <td>2021-10-01 16:47:30</td>\n",
       "      <td>MrZackMorris</td>\n",
       "      <td>MARS BITCHES</td>\n",
       "    </tr>\n",
       "    <tr>\n",
       "      <th>3</th>\n",
       "      <td>2021-10-01 16:31:44</td>\n",
       "      <td>MrZackMorris</td>\n",
       "      <td>https://t.co/JFzp3F6nFD</td>\n",
       "    </tr>\n",
       "    <tr>\n",
       "      <th>4</th>\n",
       "      <td>2021-10-01 16:22:54</td>\n",
       "      <td>MrZackMorris</td>\n",
       "      <td>I take off on red days. Why watch people cry a...</td>\n",
       "    </tr>\n",
       "    <tr>\n",
       "      <th>5</th>\n",
       "      <td>2021-10-01 16:20:28</td>\n",
       "      <td>MrZackMorris</td>\n",
       "      <td>@__John__Wick___ Joe Biden is awesome</td>\n",
       "    </tr>\n",
       "    <tr>\n",
       "      <th>6</th>\n",
       "      <td>2021-10-01 16:18:37</td>\n",
       "      <td>MrZackMorris</td>\n",
       "      <td>$CEI NO BRAINER. That’s why I’m still here. If...</td>\n",
       "    </tr>\n",
       "    <tr>\n",
       "      <th>7</th>\n",
       "      <td>2021-10-01 16:16:27</td>\n",
       "      <td>MrZackMorris</td>\n",
       "      <td>$CEI I can’t wait</td>\n",
       "    </tr>\n",
       "    <tr>\n",
       "      <th>8</th>\n",
       "      <td>2021-10-01 14:55:09</td>\n",
       "      <td>MrZackMorris</td>\n",
       "      <td>$DATS  https://t.co/DXZvCmZi0Y</td>\n",
       "    </tr>\n",
       "    <tr>\n",
       "      <th>9</th>\n",
       "      <td>2021-10-01 14:08:55</td>\n",
       "      <td>MrZackMorris</td>\n",
       "      <td>Everyone laughed when I said $50 $AMC while it...</td>\n",
       "    </tr>\n",
       "    <tr>\n",
       "      <th>10</th>\n",
       "      <td>2021-10-01 13:51:31</td>\n",
       "      <td>MrZackMorris</td>\n",
       "      <td>@SmashTokyoReal @JoshByram I regret not taking...</td>\n",
       "    </tr>\n",
       "    <tr>\n",
       "      <th>11</th>\n",
       "      <td>2021-10-01 13:42:23</td>\n",
       "      <td>MrZackMorris</td>\n",
       "      <td>https://t.co/qw08YZHioF  https://t.co/qnCtLEfg4k</td>\n",
       "    </tr>\n",
       "    <tr>\n",
       "      <th>12</th>\n",
       "      <td>2021-10-01 13:33:46</td>\n",
       "      <td>MrZackMorris</td>\n",
       "      <td>Big if true</td>\n",
       "    </tr>\n",
       "    <tr>\n",
       "      <th>13</th>\n",
       "      <td>2021-10-01 12:53:19</td>\n",
       "      <td>MrZackMorris</td>\n",
       "      <td>Cover for your mother before it’s too late</td>\n",
       "    </tr>\n",
       "    <tr>\n",
       "      <th>14</th>\n",
       "      <td>2021-10-01 12:46:48</td>\n",
       "      <td>MrZackMorris</td>\n",
       "      <td>https://t.co/uGfyoeMBTo</td>\n",
       "    </tr>\n",
       "    <tr>\n",
       "      <th>15</th>\n",
       "      <td>2021-10-01 12:30:57</td>\n",
       "      <td>MrZackMorris</td>\n",
       "      <td>$CEI SEE YOU ON MARS BITCHES.  https://t.co/90...</td>\n",
       "    </tr>\n",
       "    <tr>\n",
       "      <th>16</th>\n",
       "      <td>2021-10-01 12:23:26</td>\n",
       "      <td>MrZackMorris</td>\n",
       "      <td>$CEI is the next $CEI</td>\n",
       "    </tr>\n",
       "    <tr>\n",
       "      <th>17</th>\n",
       "      <td>2021-10-01 12:07:35</td>\n",
       "      <td>MrZackMorris</td>\n",
       "      <td>@WizardStonks That’s methane</td>\n",
       "    </tr>\n",
       "    <tr>\n",
       "      <th>18</th>\n",
       "      <td>2021-10-01 12:06:40</td>\n",
       "      <td>MrZackMorris</td>\n",
       "      <td>We’re gonna capture all the fucking carbon dio...</td>\n",
       "    </tr>\n",
       "    <tr>\n",
       "      <th>19</th>\n",
       "      <td>2021-10-01 12:00:39</td>\n",
       "      <td>MrZackMorris</td>\n",
       "      <td>$CEI SEE YOU ON MARS</td>\n",
       "    </tr>\n",
       "    <tr>\n",
       "      <th>20</th>\n",
       "      <td>2021-10-01 11:59:12</td>\n",
       "      <td>MrZackMorris</td>\n",
       "      <td>https://t.co/Zced3emL6f</td>\n",
       "    </tr>\n",
       "    <tr>\n",
       "      <th>21</th>\n",
       "      <td>2021-10-01 11:00:19</td>\n",
       "      <td>MrZackMorris</td>\n",
       "      <td>https://t.co/pALGgPRT2l</td>\n",
       "    </tr>\n",
       "    <tr>\n",
       "      <th>22</th>\n",
       "      <td>2021-10-01 10:45:54</td>\n",
       "      <td>MrZackMorris</td>\n",
       "      <td>$CEI everything is going to be very ok. Z-DADD...</td>\n",
       "    </tr>\n",
       "    <tr>\n",
       "      <th>23</th>\n",
       "      <td>2021-10-01 08:51:31</td>\n",
       "      <td>MrZackMorris</td>\n",
       "      <td>$CEI Let’s close over $4</td>\n",
       "    </tr>\n",
       "    <tr>\n",
       "      <th>24</th>\n",
       "      <td>2021-10-01 07:17:42</td>\n",
       "      <td>MrZackMorris</td>\n",
       "      <td>$CEI I’m riding this with you guys. We still h...</td>\n",
       "    </tr>\n",
       "    <tr>\n",
       "      <th>25</th>\n",
       "      <td>2021-10-01 07:04:10</td>\n",
       "      <td>MrZackMorris</td>\n",
       "      <td>https://t.co/qQiyduIz3e</td>\n",
       "    </tr>\n",
       "    <tr>\n",
       "      <th>26</th>\n",
       "      <td>2021-10-01 06:34:51</td>\n",
       "      <td>MrZackMorris</td>\n",
       "      <td>@GalYod Cool</td>\n",
       "    </tr>\n",
       "    <tr>\n",
       "      <th>27</th>\n",
       "      <td>2021-10-01 06:33:42</td>\n",
       "      <td>MrZackMorris</td>\n",
       "      <td>$CEI PAYtience</td>\n",
       "    </tr>\n",
       "    <tr>\n",
       "      <th>28</th>\n",
       "      <td>2021-10-01 05:36:21</td>\n",
       "      <td>MrZackMorris</td>\n",
       "      <td>@OmarB1113 Houston</td>\n",
       "    </tr>\n",
       "    <tr>\n",
       "      <th>29</th>\n",
       "      <td>2021-10-01 05:35:42</td>\n",
       "      <td>MrZackMorris</td>\n",
       "      <td>Shhhhhhhhh</td>\n",
       "    </tr>\n",
       "    <tr>\n",
       "      <th>30</th>\n",
       "      <td>2021-10-01 05:18:21</td>\n",
       "      <td>MrZackMorris</td>\n",
       "      <td>@Ollie_TradeGod ❤️</td>\n",
       "    </tr>\n",
       "    <tr>\n",
       "      <th>31</th>\n",
       "      <td>2021-10-01 05:08:05</td>\n",
       "      <td>MrZackMorris</td>\n",
       "      <td>Good morning!! Let’s finish this well strong! ...</td>\n",
       "    </tr>\n",
       "  </tbody>\n",
       "</table>\n",
       "</div>"
      ],
      "text/plain": [
       "                   date      username  \\\n",
       "0   2021-10-01 17:08:01  MrZackMorris   \n",
       "1   2021-10-01 17:03:43  MrZackMorris   \n",
       "2   2021-10-01 16:47:30  MrZackMorris   \n",
       "3   2021-10-01 16:31:44  MrZackMorris   \n",
       "4   2021-10-01 16:22:54  MrZackMorris   \n",
       "5   2021-10-01 16:20:28  MrZackMorris   \n",
       "6   2021-10-01 16:18:37  MrZackMorris   \n",
       "7   2021-10-01 16:16:27  MrZackMorris   \n",
       "8   2021-10-01 14:55:09  MrZackMorris   \n",
       "9   2021-10-01 14:08:55  MrZackMorris   \n",
       "10  2021-10-01 13:51:31  MrZackMorris   \n",
       "11  2021-10-01 13:42:23  MrZackMorris   \n",
       "12  2021-10-01 13:33:46  MrZackMorris   \n",
       "13  2021-10-01 12:53:19  MrZackMorris   \n",
       "14  2021-10-01 12:46:48  MrZackMorris   \n",
       "15  2021-10-01 12:30:57  MrZackMorris   \n",
       "16  2021-10-01 12:23:26  MrZackMorris   \n",
       "17  2021-10-01 12:07:35  MrZackMorris   \n",
       "18  2021-10-01 12:06:40  MrZackMorris   \n",
       "19  2021-10-01 12:00:39  MrZackMorris   \n",
       "20  2021-10-01 11:59:12  MrZackMorris   \n",
       "21  2021-10-01 11:00:19  MrZackMorris   \n",
       "22  2021-10-01 10:45:54  MrZackMorris   \n",
       "23  2021-10-01 08:51:31  MrZackMorris   \n",
       "24  2021-10-01 07:17:42  MrZackMorris   \n",
       "25  2021-10-01 07:04:10  MrZackMorris   \n",
       "26  2021-10-01 06:34:51  MrZackMorris   \n",
       "27  2021-10-01 06:33:42  MrZackMorris   \n",
       "28  2021-10-01 05:36:21  MrZackMorris   \n",
       "29  2021-10-01 05:35:42  MrZackMorris   \n",
       "30  2021-10-01 05:18:21  MrZackMorris   \n",
       "31  2021-10-01 05:08:05  MrZackMorris   \n",
       "\n",
       "                                                tweet  \n",
       "0                  @MTradess  https://t.co/z4GbUFyfCz  \n",
       "1   @jbsteelers36 I do that all the time because e...  \n",
       "2                                        MARS BITCHES  \n",
       "3                             https://t.co/JFzp3F6nFD  \n",
       "4   I take off on red days. Why watch people cry a...  \n",
       "5               @__John__Wick___ Joe Biden is awesome  \n",
       "6   $CEI NO BRAINER. That’s why I’m still here. If...  \n",
       "7                                   $CEI I can’t wait  \n",
       "8                      $DATS  https://t.co/DXZvCmZi0Y  \n",
       "9   Everyone laughed when I said $50 $AMC while it...  \n",
       "10  @SmashTokyoReal @JoshByram I regret not taking...  \n",
       "11   https://t.co/qw08YZHioF  https://t.co/qnCtLEfg4k  \n",
       "12                                        Big if true  \n",
       "13         Cover for your mother before it’s too late  \n",
       "14                            https://t.co/uGfyoeMBTo  \n",
       "15  $CEI SEE YOU ON MARS BITCHES.  https://t.co/90...  \n",
       "16                              $CEI is the next $CEI  \n",
       "17                       @WizardStonks That’s methane  \n",
       "18  We’re gonna capture all the fucking carbon dio...  \n",
       "19                               $CEI SEE YOU ON MARS  \n",
       "20                            https://t.co/Zced3emL6f  \n",
       "21                            https://t.co/pALGgPRT2l  \n",
       "22  $CEI everything is going to be very ok. Z-DADD...  \n",
       "23                           $CEI Let’s close over $4  \n",
       "24  $CEI I’m riding this with you guys. We still h...  \n",
       "25                            https://t.co/qQiyduIz3e  \n",
       "26                                       @GalYod Cool  \n",
       "27                                     $CEI PAYtience  \n",
       "28                                 @OmarB1113 Houston  \n",
       "29                                         Shhhhhhhhh  \n",
       "30                                 @Ollie_TradeGod ❤️  \n",
       "31  Good morning!! Let’s finish this well strong! ...  "
      ]
     },
     "execution_count": 170,
     "metadata": {},
     "output_type": "execute_result"
    }
   ],
   "source": [
    "df"
   ]
  },
  {
   "cell_type": "code",
   "execution_count": null,
   "id": "f11ff654",
   "metadata": {},
   "outputs": [],
   "source": []
  },
  {
   "cell_type": "code",
   "execution_count": 139,
   "id": "0e15c49c",
   "metadata": {},
   "outputs": [
    {
     "name": "stdout",
     "output_type": "stream",
     "text": [
      "1444091764244205568 2021-10-01 17:08:01 -0700 <MrZackMorris> @MTradess  https://t.co/z4GbUFyfCz\n",
      "1444090682398887940 2021-10-01 17:03:43 -0700 <MrZackMorris> @jbsteelers36 I do that all the time because eventually it follows\n",
      "1444086604360978435 2021-10-01 16:47:30 -0700 <MrZackMorris> MARS BITCHES\n",
      "1444082636473970690 2021-10-01 16:31:44 -0700 <MrZackMorris>  https://t.co/JFzp3F6nFD\n",
      "1444080411513065478 2021-10-01 16:22:54 -0700 <MrZackMorris> I take off on red days. Why watch people cry all day when I know the outcome? It’s all part of the game. Relax on red days.\n",
      "1444079799266422786 2021-10-01 16:20:28 -0700 <MrZackMorris> @__John__Wick___ Joe Biden is awesome\n",
      "1444079333937713154 2021-10-01 16:18:37 -0700 <MrZackMorris> $CEI NO BRAINER. That’s why I’m still here. If I didn’t believe I would have been out in the $4s.\n",
      "1444078788791488514 2021-10-01 16:16:27 -0700 <MrZackMorris> $CEI I can’t wait\n",
      "1444058326552154120 2021-10-01 14:55:09 -0700 <MrZackMorris> $DATS  https://t.co/DXZvCmZi0Y\n",
      "1444046691645198339 2021-10-01 14:08:55 -0700 <MrZackMorris> Everyone laughed when I said $50 $AMC while it was trading at $2-5. $CEI will be another monster $10++\n",
      "1444042315484520448 2021-10-01 13:51:31 -0700 <MrZackMorris> @SmashTokyoReal @JoshByram I regret not taking AMC options during the run. I’ll def load some 10 calls on CEI\n",
      "1444040017693790213 2021-10-01 13:42:23 -0700 <MrZackMorris>  https://t.co/qw08YZHioF  https://t.co/qnCtLEfg4k\n",
      "1444037846055243778 2021-10-01 13:33:46 -0700 <MrZackMorris> Big if true\n",
      "1444027669658718208 2021-10-01 12:53:19 -0700 <MrZackMorris> Cover for your mother before it’s too late\n",
      "1444026029123817477 2021-10-01 12:46:48 -0700 <MrZackMorris>  https://t.co/uGfyoeMBTo\n",
      "1444022040323887107 2021-10-01 12:30:57 -0700 <MrZackMorris> $CEI SEE YOU ON MARS BITCHES.  https://t.co/90FTfsSBsd\n",
      "1444020149087047687 2021-10-01 12:23:26 -0700 <MrZackMorris> $CEI is the next $CEI\n",
      "1444016159486054429 2021-10-01 12:07:35 -0700 <MrZackMorris> @WizardStonks That’s methane\n",
      "1444015927117418534 2021-10-01 12:06:40 -0700 <MrZackMorris> We’re gonna capture all the fucking carbon dioxide!!\n",
      "1444014412722016262 2021-10-01 12:00:39 -0700 <MrZackMorris> $CEI SEE YOU ON MARS\n",
      "1444014049805668381 2021-10-01 11:59:12 -0700 <MrZackMorris>  https://t.co/Zced3emL6f\n",
      "1443999230411083785 2021-10-01 11:00:19 -0700 <MrZackMorris>  https://t.co/pALGgPRT2l\n",
      "1443995602375921665 2021-10-01 10:45:54 -0700 <MrZackMorris> $CEI everything is going to be very ok. Z-DADDY selling $10-20  https://t.co/4wX1Gylsiq\n",
      "1443966819325317125 2021-10-01 08:51:31 -0700 <MrZackMorris> $CEI Let’s close over $4\n",
      "1443943207121862707 2021-10-01 07:17:42 -0700 <MrZackMorris> $CEI I’m riding this with you guys. We still have lots to look forward to. FCEL  did the same shit\n",
      "1443939803213467652 2021-10-01 07:04:10 -0700 <MrZackMorris>  https://t.co/qQiyduIz3e\n",
      "1443932425575358468 2021-10-01 06:34:51 -0700 <MrZackMorris> @GalYod Cool\n",
      "1443932134553669640 2021-10-01 06:33:42 -0700 <MrZackMorris> $CEI PAYtience\n",
      "1443917702914056202 2021-10-01 05:36:21 -0700 <MrZackMorris> @OmarB1113 Houston\n",
      "1443917536979005440 2021-10-01 05:35:42 -0700 <MrZackMorris> Shhhhhhhhh\n",
      "1443913172222681127 2021-10-01 05:18:21 -0700 <MrZackMorris> @Ollie_TradeGod ❤️\n",
      "1443910590280441856 2021-10-01 05:08:05 -0700 <MrZackMorris> Good morning!! Let’s finish this well strong!  https://t.co/piuShNfLow\n",
      "1443786481546534921 2021-09-30 20:54:56 -0700 <MrZackMorris> @LadeBackk They’re spoiled.\n",
      "1443780064034885633 2021-09-30 20:29:26 -0700 <MrZackMorris> $CEI  https://t.co/4n5kXklRoI\n",
      "1443779667379507200 2021-09-30 20:27:51 -0700 <MrZackMorris> @joealertz Ultra bro I’m watching my bod for Miami\n",
      "1443778593545392129 2021-09-30 20:23:35 -0700 <MrZackMorris>  https://t.co/8FYvsfMRHJ\n",
      "1443777009679802374 2021-09-30 20:17:17 -0700 <MrZackMorris> I’m going to spend the day by the pool.\n",
      "1443775624582209536 2021-09-30 20:11:47 -0700 <MrZackMorris>  https://t.co/KSXEDNbI5N\n",
      "1443773224697929734 2021-09-30 20:02:15 -0700 <MrZackMorris>  https://t.co/LiZUILC69v\n",
      "1443771295787896832 2021-09-30 19:54:35 -0700 <MrZackMorris>  https://t.co/EzKmz98A4i\n",
      "1443769474113589251 2021-09-30 19:47:21 -0700 <MrZackMorris>  https://t.co/zrk8QZm5AS\n",
      "1443767147151376386 2021-09-30 19:38:06 -0700 <MrZackMorris>  https://t.co/tCVmD4oUIH\n",
      "1443766564520710147 2021-09-30 19:35:47 -0700 <MrZackMorris> One more beer  https://t.co/yLXqqpSrvz\n",
      "1443765227540131843 2021-09-30 19:30:28 -0700 <MrZackMorris> Bye  https://t.co/xDHZCjdbyz\n",
      "1443764796160188420 2021-09-30 19:28:45 -0700 <MrZackMorris> @YoungStepers That’s one of my goals\n",
      "1443764296006180870 2021-09-30 19:26:46 -0700 <MrZackMorris> @harb_WD Top chasers\n",
      "1443763611084730368 2021-09-30 19:24:03 -0700 <MrZackMorris> @jigadyjenx Real\n",
      "1443761878782644236 2021-09-30 19:17:10 -0700 <MrZackMorris> Last one  https://t.co/J2vQCE5piZ\n",
      "1443760912876425216 2021-09-30 19:13:20 -0700 <MrZackMorris> Last one Good night  https://t.co/D2fgeEGP77\n",
      "1443760192705994752 2021-09-30 19:10:28 -0700 <MrZackMorris>  https://t.co/UJA1pSNUdW\n",
      "1443759955195174914 2021-09-30 19:09:31 -0700 <MrZackMorris> @davebassila  https://t.co/7Qssfnh1fr\n",
      "1443759078296195075 2021-09-30 19:06:02 -0700 <MrZackMorris>  https://t.co/WNYj9K8WpM\n",
      "1443758297820061699 2021-09-30 19:02:56 -0700 <MrZackMorris>  https://t.co/NBMIA83s1I\n",
      "1443757165609734150 2021-09-30 18:58:26 -0700 <MrZackMorris> 2 more after and that’s it.  https://t.co/Zz7OZYlbYu\n",
      "1443756330129498115 2021-09-30 18:55:07 -0700 <MrZackMorris>  https://t.co/KjUTVIlbMa\n",
      "1443756129591439362 2021-09-30 18:54:19 -0700 <MrZackMorris> @Frank412_DaTank We’ll go to twin peaks\n",
      "1443756046124781574 2021-09-30 18:53:59 -0700 <MrZackMorris> @Frank412_DaTank I’ll meet you\n",
      "1443754931866030082 2021-09-30 18:49:34 -0700 <MrZackMorris>  https://t.co/cOq72oioqt\n",
      "1443752034562412548 2021-09-30 18:38:03 -0700 <MrZackMorris>  https://t.co/XQdtAa93g6\n",
      "1443749223053266947 2021-09-30 18:26:52 -0700 <MrZackMorris> I love making money with all my internet friends (family).\n",
      "1443738525988438016 2021-09-30 17:44:22 -0700 <MrZackMorris> Just don’t bring your bacon over\n",
      "1443738365719990276 2021-09-30 17:43:44 -0700 <MrZackMorris>  https://t.co/qw08YZHioF  https://t.co/UpNLK2kScq\n",
      "1443730694635720711 2021-09-30 17:13:15 -0700 <MrZackMorris> @M4knCh33se They’ll learn\n",
      "1443703088313942020 2021-09-30 15:23:33 -0700 <MrZackMorris> @EnEight4 I’m dead serious\n",
      "1443702460326027274 2021-09-30 15:21:03 -0700 <MrZackMorris> @MikeSeaver15 @LadeBackk Big big update coming\n",
      "1443702007022370818 2021-09-30 15:19:15 -0700 <MrZackMorris> I like ease you guys in\n",
      "1443694709797490688 2021-09-30 14:50:16 -0700 <MrZackMorris> @MoneyyMako Shut your mouth of course it will\n",
      "1443694628012707846 2021-09-30 14:49:56 -0700 <MrZackMorris> @distantboi No\n",
      "1443694524128243712 2021-09-30 14:49:31 -0700 <MrZackMorris> @AleksAtlas @MimedxGroupie @Guruleaks1 @LadeBackk @SECEnfDirector @GaryGensler Learn what a demo account looks like\n",
      "1443694307916066816 2021-09-30 14:48:40 -0700 <MrZackMorris> Miami CEI chat  https://t.co/gSESHFPQwq\n",
      "1443679124464209931 2021-09-30 13:48:20 -0700 <MrZackMorris> @DipDeity @InvestorsLive Dam you gamers\n",
      "1443678442671726601 2021-09-30 13:45:37 -0700 <MrZackMorris> @InvestorsLive You’re my frenemy\n",
      "1443645428189339652 2021-09-30 11:34:26 -0700 <MrZackMorris> @MimedxGroupie @Guruleaks1 @LadeBackk @SECEnfDirector @GaryGensler No you’re the 🤡  https://t.co/mB1WmB3k2q\n",
      "1443645265353846788 2021-09-30 11:33:47 -0700 <MrZackMorris> @SiinPvP_ Awww\n",
      "1443642424614604806 2021-09-30 11:22:30 -0700 <MrZackMorris> @TylertheMMAfan Other house to feed the animals\n",
      "1443642148272939008 2021-09-30 11:21:24 -0700 <MrZackMorris>  https://t.co/jugoaPHWXx\n",
      "1443636522759163907 2021-09-30 10:59:03 -0700 <MrZackMorris> @TIMSauced  https://t.co/gaN4dPa6SU\n",
      "1443614451341611011 2021-09-30 09:31:20 -0700 <MrZackMorris>  https://t.co/gxGpAIVBa6\n",
      "1443613555513757699 2021-09-30 09:27:47 -0700 <MrZackMorris>  https://t.co/3fDGfxKtqL\n",
      "1443606329659166721 2021-09-30 08:59:04 -0700 <MrZackMorris> @187Gunguy Why the f would I tweet if I wasn’t holding?\n",
      "1443606192266305540 2021-09-30 08:58:31 -0700 <MrZackMorris> @jimmy4all1 No\n",
      "1443605873155350534 2021-09-30 08:57:15 -0700 <MrZackMorris> 💲💲💲💲💲\n",
      "1443604925620047872 2021-09-30 08:53:29 -0700 <MrZackMorris> @supermoonpants @LadeBackk Clearly  https://t.co/RNigtoNOdM\n",
      "1443597167533383689 2021-09-30 08:22:40 -0700 <MrZackMorris> I might sell at $10\n",
      "1443597078261866501 2021-09-30 08:22:18 -0700 <MrZackMorris> @SerialTrader72 Why?\n",
      "1443590484979433476 2021-09-30 07:56:06 -0700 <MrZackMorris> $CEI is the next $AMC  https://t.co/Z2hrWtILKk\n",
      "1443588344831643649 2021-09-30 07:47:36 -0700 <MrZackMorris>  https://t.co/DPyxEy7ppk\n",
      "1443583007424598023 2021-09-30 07:26:24 -0700 <MrZackMorris> @roaringsessions Nah you’ll just go broke. Bad karma on your part\n",
      "1443578591820726275 2021-09-30 07:08:51 -0700 <MrZackMorris>  https://t.co/R9BItwLnQW\n",
      "1443576367057014788 2021-09-30 07:00:00 -0700 <MrZackMorris> $CEI $DATS Just little games before we reach new all time highs\n",
      "1443572943221522444 2021-09-30 06:46:24 -0700 <MrZackMorris> $CEI @LadeBackk Uses gas\n",
      "1443572702137110531 2021-09-30 06:45:27 -0700 <MrZackMorris> @LadeBackk That’s pimp\n",
      "1443571334089519106 2021-09-30 06:40:00 -0700 <MrZackMorris> We will rule them all\n",
      "1443570029593874438 2021-09-30 06:34:49 -0700 <MrZackMorris> $CEI @Amp_Trades  https://t.co/NzHTJrKfLn\n",
      "1443569282206605312 2021-09-30 06:31:51 -0700 <MrZackMorris> Nothing\n",
      "1443564593243172864 2021-09-30 06:13:13 -0700 <MrZackMorris> $CEI See you on Mars pussstaches!\n",
      "1443563606960971776 2021-09-30 06:09:18 -0700 <MrZackMorris>  https://t.co/eXfcNuHGl8\n",
      "1443562549316919296 2021-09-30 06:05:06 -0700 <MrZackMorris>  https://t.co/1j2Etrp6UR\n",
      "1443560539595149317 2021-09-30 05:57:07 -0700 <MrZackMorris> @jacobo36738325 For now\n",
      "1443560307931107332 2021-09-30 05:56:12 -0700 <MrZackMorris> I’m in $DATS for $30 to $50\n"
     ]
    },
    {
     "name": "stdout",
     "output_type": "stream",
     "text": [
      "1443559817671553024 2021-09-30 05:54:15 -0700 <MrZackMorris> Don’t spread rumors please I am not in FAMI only $CEI. I hope FAMI goes for those in\n",
      "1443558331356954625 2021-09-30 05:48:20 -0700 <MrZackMorris> $CEI\n",
      "1443558100003430410 2021-09-30 05:47:25 -0700 <MrZackMorris> @Rich_HeRich  https://t.co/NmsastRHLB\n",
      "1443554205302759426 2021-09-30 05:31:57 -0700 <MrZackMorris> I made it!!\n",
      "1443551314424832001 2021-09-30 05:20:27 -0700 <MrZackMorris> I am\n",
      "1443550927147999234 2021-09-30 05:18:55 -0700 <MrZackMorris>  https://t.co/htvbizmzFH\n",
      "1443540539362643975 2021-09-30 04:37:38 -0700 <MrZackMorris> Good morning!!! Let’s go even higher today.  https://t.co/6fL0LE4uNE\n",
      "1443540028030914560 2021-09-30 04:35:37 -0700 <MrZackMorris> $CEI is the next $CEI\n",
      "1443405371964547073 2021-09-29 19:40:32 -0700 <MrZackMorris> $CEI  https://t.co/KVkIG9srMV\n",
      "1443395810880806920 2021-09-29 19:02:32 -0700 <MrZackMorris> @deltagammaqueen Thank you\n",
      "1443385964471234561 2021-09-29 18:23:25 -0700 <MrZackMorris> @Cbmethod Reface app\n",
      "1443367258617700352 2021-09-29 17:09:05 -0700 <MrZackMorris> @AjTrader7 Thanks bro! You’re the best! 🙏🏻🙏🏻🙏🏻\n",
      "1443360541335031810 2021-09-29 16:42:24 -0700 <MrZackMorris>  https://t.co/Zxy8JweTe2\n",
      "1443355938954653697 2021-09-29 16:24:06 -0700 <MrZackMorris>  https://t.co/WrKX1FRYy4\n",
      "1443351738262728705 2021-09-29 16:07:25 -0700 <MrZackMorris>  https://t.co/pwkQekyoAm\n",
      "1443343474951032833 2021-09-29 15:34:35 -0700 <MrZackMorris> $DATS  https://t.co/CwJ0dOzi0K\n",
      "1443342225476186112 2021-09-29 15:29:37 -0700 <MrZackMorris>  https://t.co/Jpsgkjt1yl\n",
      "1443341395012558857 2021-09-29 15:26:19 -0700 <MrZackMorris> $CEI  shorts are screwed. See you at $10\n",
      "1443341122026328064 2021-09-29 15:25:14 -0700 <MrZackMorris> @jonautc93 @LadeBackk I agree\n",
      "1443339011402121218 2021-09-29 15:16:50 -0700 <MrZackMorris>  https://t.co/B27GnYmpxF\n",
      "1443338059970490370 2021-09-29 15:13:04 -0700 <MrZackMorris>  https://t.co/GfFNyA2LsE\n",
      "1443333116244938755 2021-09-29 14:53:25 -0700 <MrZackMorris> Shorts are trying everything lol Let’s bury these hoes\n",
      "1443315704942432259 2021-09-29 13:44:14 -0700 <MrZackMorris> @JacobAr99614348 @LadeBackk They scured\n",
      "1443312167634280453 2021-09-29 13:30:10 -0700 <MrZackMorris> @Amp_Trades Hahahah you mad bro? Let’s see what you made today. I own you bitch\n",
      "1443299274033438721 2021-09-29 12:38:56 -0700 <MrZackMorris> $CEI WE’RE STILL EARLY  https://t.co/NPTVXsm8Dj\n",
      "1443297521653190668 2021-09-29 12:31:58 -0700 <MrZackMorris> @Amp_Trades Sorry I was with your mom\n",
      "1443297402585329670 2021-09-29 12:31:30 -0700 <MrZackMorris>  https://t.co/PoDULsqiUn\n",
      "1443289274447802386 2021-09-29 11:59:12 -0700 <MrZackMorris> @LadeBackk They scared\n",
      "1443288340992770063 2021-09-29 11:55:30 -0700 <MrZackMorris>  https://t.co/yuWgldedP1\n",
      "1443286653347446790 2021-09-29 11:48:47 -0700 <MrZackMorris> $DATS a great dip\n",
      "1443285361766060033 2021-09-29 11:43:39 -0700 <MrZackMorris> We’re going to squeeze em\n",
      "1443284961453387776 2021-09-29 11:42:04 -0700 <MrZackMorris> $CEIS This the dip to get\n",
      "1443283882988777480 2021-09-29 11:37:47 -0700 <MrZackMorris>  https://t.co/1Si0VSxp6o\n",
      "1443282571450896392 2021-09-29 11:32:34 -0700 <MrZackMorris> Switch to Webull  https://t.co/2pntgGrBy0\n",
      "1443282245473669133 2021-09-29 11:31:16 -0700 <MrZackMorris>  https://t.co/Mqn4Dcr1zE\n",
      "1443281580747808772 2021-09-29 11:28:38 -0700 <MrZackMorris>  https://t.co/N195jGMnjg\n",
      "1443281194997755905 2021-09-29 11:27:06 -0700 <MrZackMorris> $CEI $DATS More short trapping\n",
      "1443278843029172230 2021-09-29 11:17:45 -0700 <MrZackMorris> @rapidace650 @Guruleaks1 No\n",
      "1443278200625303559 2021-09-29 11:15:12 -0700 <MrZackMorris> SEC these nuts @guruleaks1  https://t.co/EAheiZHbrJ\n",
      "1443277191656218632 2021-09-29 11:11:11 -0700 <MrZackMorris> How it’s still going @Guruleaks1  https://t.co/JS0Q3uMNJV\n",
      "1443276949800071174 2021-09-29 11:10:14 -0700 <MrZackMorris> How it started….. how its going @guruleaks1  https://t.co/3c3wW53UrA\n",
      "1443268488215269377 2021-09-29 10:36:36 -0700 <MrZackMorris>  https://t.co/gHecmX4RqS\n",
      "1443268268383420421 2021-09-29 10:35:44 -0700 <MrZackMorris> Do you love me?\n",
      "1443265238514679812 2021-09-29 10:23:42 -0700 <MrZackMorris> Show Zack Morris your Titties\n",
      "1443263370585677836 2021-09-29 10:16:16 -0700 <MrZackMorris>  https://t.co/u2LYLKLhJN\n",
      "1443257884352069644 2021-09-29 09:54:28 -0700 <MrZackMorris> $CEI  https://t.co/4wzJwCrWq2\n",
      "1443256928105287684 2021-09-29 09:50:40 -0700 <MrZackMorris> $DATS Short trap\n",
      "1443255757319856140 2021-09-29 09:46:01 -0700 <MrZackMorris> Bang your boss’s wife, it’s happening\n",
      "1443248975998590978 2021-09-29 09:19:04 -0700 <MrZackMorris>  https://t.co/91pQmrZboc\n",
      "1443246417619922954 2021-09-29 09:08:54 -0700 <MrZackMorris> @CoppersmithMr Good entry\n",
      "1443246286619267075 2021-09-29 09:08:23 -0700 <MrZackMorris>  https://t.co/Xyqbq2ApRN\n",
      "1443245806379806735 2021-09-29 09:06:29 -0700 <MrZackMorris> @CoppersmithMr Cool so\n",
      "1443245547004047377 2021-09-29 09:05:27 -0700 <MrZackMorris> $DATS $20\n",
      "1443243291928059906 2021-09-29 08:56:29 -0700 <MrZackMorris> @AlexCutler247 @deltagammaqueen Thank you buddy. I hope you have a wonderful day.\n",
      "1443241348862197761 2021-09-29 08:48:46 -0700 <MrZackMorris>  https://t.co/Pe0BvwJsvJ\n",
      "1443241117399535624 2021-09-29 08:47:51 -0700 <MrZackMorris> I’ll post my P.O. Box for the Rolex deliveries\n",
      "1443240329059180544 2021-09-29 08:44:43 -0700 <MrZackMorris>  https://t.co/psjlZxe5dX\n",
      "1443239585954377730 2021-09-29 08:41:46 -0700 <MrZackMorris> @LadeBackk And I’ll give them a hump\n",
      "1443239271293407244 2021-09-29 08:40:31 -0700 <MrZackMorris> @AlexCutler247 @deltagammaqueen Sup?\n",
      "1443239076027637760 2021-09-29 08:39:44 -0700 <MrZackMorris> @SmallGains1111 Send a pic\n",
      "1443237368769691667 2021-09-29 08:32:57 -0700 <MrZackMorris>  https://t.co/qw08YZHioF  https://t.co/c1ClF9wM6U\n",
      "1443236343413358592 2021-09-29 08:28:52 -0700 <MrZackMorris>  https://t.co/eUjlGQLQWX\n",
      "1443236182188507149 2021-09-29 08:28:14 -0700 <MrZackMorris>  https://t.co/wZrno5VKrB\n",
      "1443235216940748800 2021-09-29 08:24:24 -0700 <MrZackMorris> $CEI 🤡\n",
      "1443233928211542020 2021-09-29 08:19:17 -0700 <MrZackMorris>  https://t.co/IpXrjysmD7\n",
      "1443233841234300928 2021-09-29 08:18:56 -0700 <MrZackMorris>  https://t.co/mZUOY1a4HG\n",
      "1443228774447960068 2021-09-29 07:58:48 -0700 <MrZackMorris> $CEI $DATS Melt up\n",
      "1443224212789989385 2021-09-29 07:40:40 -0700 <MrZackMorris> RIP IU\n",
      "1443223284716384258 2021-09-29 07:36:59 -0700 <MrZackMorris>  https://t.co/nOdtXJ3N1Y\n",
      "1443222487316189193 2021-09-29 07:33:49 -0700 <MrZackMorris>  https://t.co/DokqSoxodt\n",
      "1443221067678601223 2021-09-29 07:28:10 -0700 <MrZackMorris> Booo this man\n",
      "1443220137004478472 2021-09-29 07:24:29 -0700 <MrZackMorris>  https://t.co/uTx6N469Pw\n",
      "1443219709952933891 2021-09-29 07:22:47 -0700 <MrZackMorris>  https://t.co/mEv9ccaSvH\n",
      "1443217164060794880 2021-09-29 07:12:40 -0700 <MrZackMorris> @LadeBackk What bro? You know I speak from the heart\n",
      "1443216887358312453 2021-09-29 07:11:34 -0700 <MrZackMorris> $CEI Love is a battlefield\n",
      "1443216471476383749 2021-09-29 07:09:55 -0700 <MrZackMorris>  https://t.co/BGbpCyYj5z\n",
      "1443215101897609216 2021-09-29 07:04:28 -0700 <MrZackMorris> $CEI $5+  https://t.co/WqUdWM1InJ\n",
      "1443213823754883077 2021-09-29 06:59:23 -0700 <MrZackMorris> Put that pussy on ice\n",
      "1443213525460168706 2021-09-29 06:58:12 -0700 <MrZackMorris> $DATS $30+ maybe $50 or $100.\n",
      "1443211637264113666 2021-09-29 06:50:42 -0700 <MrZackMorris>  https://t.co/X05sLTBhGE\n",
      "1443210611475759117 2021-09-29 06:46:37 -0700 <MrZackMorris>  https://t.co/QUMsp4NMRz\n",
      "1443209927036706826 2021-09-29 06:43:54 -0700 <MrZackMorris> $CEI\n",
      "1443209197634662404 2021-09-29 06:41:00 -0700 <MrZackMorris> $CEI  https://t.co/ixpCV33DeQ\n",
      "1443207909782040578 2021-09-29 06:35:53 -0700 <MrZackMorris> $CEI $DATS More pain for shorts today  https://t.co/Y2BVb0fbRL\n",
      "1443202405676503042 2021-09-29 06:14:01 -0700 <MrZackMorris> Good chance most of you will make $1 million in the next 2 years if we stick to the plan.\n",
      "1443200299829714950 2021-09-29 06:05:39 -0700 <MrZackMorris> $CEI the next $AMC?\n",
      "1443196519281307650 2021-09-29 05:50:38 -0700 <MrZackMorris>  https://t.co/bsXRkVGcSr\n",
      "1443192367528435713 2021-09-29 05:34:08 -0700 <MrZackMorris> Congrats on 100k followers homie! @LadeBackk  https://t.co/m2YlPbvsxD\n",
      "1443190517278330893 2021-09-29 05:26:47 -0700 <MrZackMorris>  https://t.co/YepcZVCXLm\n",
      "1443189983884550151 2021-09-29 05:24:39 -0700 <MrZackMorris> $DATS  https://t.co/bqZfUkva1i\n",
      "1443188736108507140 2021-09-29 05:19:42 -0700 <MrZackMorris> @JesseGuenet Awww you want to get bent over??\n",
      "1443186742064996352 2021-09-29 05:11:47 -0700 <MrZackMorris> @bawbag2000 Yes\n",
      "1443186693583028233 2021-09-29 05:11:35 -0700 <MrZackMorris> @Neptvnvs Wish\n",
      "1443186184449138690 2021-09-29 05:09:34 -0700 <MrZackMorris> @jack_mf_smith @Gotteeth23 I hope you have an even better day than Jack wished you Gotteeth23\n",
      "1443184439039774727 2021-09-29 05:02:37 -0700 <MrZackMorris> Good morning! Let’s run over shorts.  https://t.co/eTrHfuthbT\n",
      "1443068892339974145 2021-09-28 21:23:29 -0700 <MrZackMorris>  https://t.co/RaDm7kfoiw\n",
      "1443056569055318016 2021-09-28 20:34:31 -0700 <MrZackMorris> Dam it sorry @Alexs_trades didn’t mean to tag you\n",
      "1443056458762006528 2021-09-28 20:34:05 -0700 <MrZackMorris> @Alexs_trades  https://t.co/bn5UaV8oza\n",
      "1443056146881912832 2021-09-28 20:32:50 -0700 <MrZackMorris> $CEI\n",
      "1443055392842526724 2021-09-28 20:29:50 -0700 <MrZackMorris>  https://t.co/4crlEkktzW\n"
     ]
    },
    {
     "name": "stdout",
     "output_type": "stream",
     "text": [
      "1443050685981937667 2021-09-28 20:11:08 -0700 <MrZackMorris> Still tippin  https://t.co/Rj7lEP1F6h\n",
      "1443035714673856516 2021-09-28 19:11:39 -0700 <MrZackMorris> @CreepyJ05339919 Just my house\n",
      "1443032074936590337 2021-09-28 18:57:11 -0700 <MrZackMorris> @Mere0325 @DanielsDisaster $WISH will rocket\n",
      "1443023428756332550 2021-09-28 18:22:50 -0700 <MrZackMorris>  https://t.co/7ZwNL7FqaB\n",
      "1442999806738247681 2021-09-28 16:48:58 -0700 <MrZackMorris>  https://t.co/UIjWv9nfQX\n",
      "1442994943400763395 2021-09-28 16:29:38 -0700 <MrZackMorris> @YoBoyAzeem7 Sure\n",
      "1442994460766478336 2021-09-28 16:27:43 -0700 <MrZackMorris> $CEI  https://t.co/JGKbG0LHpN\n",
      "1442991799920906242 2021-09-28 16:17:09 -0700 <MrZackMorris>  https://t.co/UVDDM9lviu\n",
      "1442989238866296832 2021-09-28 16:06:58 -0700 <MrZackMorris> @susaneluwa Hell yea sue poo\n",
      "1442988409060999173 2021-09-28 16:03:40 -0700 <MrZackMorris>  https://t.co/rIoEGXu0Bz\n",
      "1442987576651046915 2021-09-28 16:00:22 -0700 <MrZackMorris>  https://t.co/fiOSkgLQxX\n",
      "1442986948713459719 2021-09-28 15:57:52 -0700 <MrZackMorris> $CEI  https://t.co/PrX3UlTuh1\n",
      "1442979914228060161 2021-09-28 15:29:55 -0700 <MrZackMorris> @FuboSlut @letbrucehitit Not Walden\n",
      "1442973422972243969 2021-09-28 15:04:07 -0700 <MrZackMorris> @cephastrades @SpacTraderinTra @letbrucehitit Your mom\n",
      "1442953148344250368 2021-09-28 13:43:33 -0700 <MrZackMorris>  https://t.co/3zEfa8vBIP\n",
      "1442951884239683584 2021-09-28 13:38:32 -0700 <MrZackMorris> @LadeBackk @JacupsBoyz Yea fu\n",
      "1442951748256075776 2021-09-28 13:38:00 -0700 <MrZackMorris> @LadeBackk I’m on it. I’ll start tomorrow\n",
      "1442947141677170688 2021-09-28 13:19:41 -0700 <MrZackMorris>  https://t.co/H2oWLYMcvx\n",
      "1442946892552232960 2021-09-28 13:18:42 -0700 <MrZackMorris>  https://t.co/MDUEfwhYwY\n",
      "1442945564132319234 2021-09-28 13:13:25 -0700 <MrZackMorris> $CEI $DATS\n",
      "1442943801991962630 2021-09-28 13:06:25 -0700 <MrZackMorris> @CDCPA3 @AlexCutler247 @deltagammaqueen Gotcha bitch!!\n",
      "1442941832128651271 2021-09-28 12:58:35 -0700 <MrZackMorris> @Michael57934252 Block\n",
      "1442938428111278081 2021-09-28 12:45:04 -0700 <MrZackMorris> Too sexy  https://t.co/DsNFrRRblI\n",
      "1442933729207279617 2021-09-28 12:26:24 -0700 <MrZackMorris>  https://t.co/Rd6orV3FYq  https://t.co/D81AG1dZh4\n",
      "1442933109247262722 2021-09-28 12:23:56 -0700 <MrZackMorris> $CEI fill that gap\n",
      "1442928260015218689 2021-09-28 12:04:40 -0700 <MrZackMorris>  https://t.co/idoa9Vusn5\n",
      "1442927287758778372 2021-09-28 12:00:48 -0700 <MrZackMorris>  https://t.co/RHUG4uOVfX\n",
      "1442923501971591170 2021-09-28 11:45:45 -0700 <MrZackMorris> $WISH will still have it’s day. It’s down with the market. I’ll be right on this one, too.\n",
      "1442923057304117249 2021-09-28 11:43:59 -0700 <MrZackMorris>  https://t.co/mUxLhgJFiJ\n",
      "1442921675335495682 2021-09-28 11:38:30 -0700 <MrZackMorris> @jose_dehoyos18 Seee\n",
      "1442921372875780097 2021-09-28 11:37:18 -0700 <MrZackMorris>  https://t.co/Dl91hqIGG1\n",
      "1442919638224887811 2021-09-28 11:30:24 -0700 <MrZackMorris> $CEI $5($10)+ $DATS $30($50)+\n",
      "1442918890460250115 2021-09-28 11:27:26 -0700 <MrZackMorris> $CEI RIP Shorts. You gone learn\n",
      "1442918751251275777 2021-09-28 11:26:53 -0700 <MrZackMorris> $DATS Shorts are fucked. We’re going to Supernova\n",
      "1442917368276025345 2021-09-28 11:21:23 -0700 <MrZackMorris> @WiseOldElf6 @christinebarnum You sly doggg\n",
      "1442916821967900673 2021-09-28 11:19:13 -0700 <MrZackMorris> @grayothechef TD\n",
      "1442913946374074368 2021-09-28 11:07:47 -0700 <MrZackMorris> $DATS $CEI  https://t.co/mckv9mUZri\n",
      "1442910433455665153 2021-09-28 10:53:49 -0700 <MrZackMorris> $DATS  https://t.co/cMuRmaJcIn\n",
      "1442909863101698051 2021-09-28 10:51:33 -0700 <MrZackMorris>  https://t.co/WYUFClD7DF\n",
      "1442909087075688453 2021-09-28 10:48:28 -0700 <MrZackMorris> @AlexCutler247 @deltagammaqueen No because you’re actual clowns. You’re the joke of Fintwit.\n",
      "1442908408047280128 2021-09-28 10:45:47 -0700 <MrZackMorris>  https://t.co/QchIF8VsZJ\n",
      "1442906210479394826 2021-09-28 10:37:03 -0700 <MrZackMorris> Nuke those shorts\n",
      "1442905295710142464 2021-09-28 10:33:25 -0700 <MrZackMorris> @sicario427 Lock up period ends in 5 months. We have plenty of time\n",
      "1442904082973224960 2021-09-28 10:28:35 -0700 <MrZackMorris> $CEI Cheers  https://t.co/n0fv7bSLeM\n",
      "1442901476381130752 2021-09-28 10:18:14 -0700 <MrZackMorris> @GrayRose_Rob @DisciBull Poor timing\n",
      "1442899838274703363 2021-09-28 10:11:43 -0700 <MrZackMorris> $DATS is that guy still short from $8.50 ????\n",
      "1442898049139757060 2021-09-28 10:04:37 -0700 <MrZackMorris> $CEI We’re just getting started\n",
      "1442897508703748097 2021-09-28 10:02:28 -0700 <MrZackMorris> @AlexCutler247 @deltagammaqueen Lol Clowns\n",
      "1442890849667350534 2021-09-28 09:36:00 -0700 <MrZackMorris> @naif_alsami_ I’d get arrested\n",
      "1442889782057574412 2021-09-28 09:31:46 -0700 <MrZackMorris>  https://t.co/C2wIUGleUb\n",
      "1442889441526362116 2021-09-28 09:30:25 -0700 <MrZackMorris>  https://t.co/Mkl2FCASmd\n",
      "1442889263524155392 2021-09-28 09:29:42 -0700 <MrZackMorris> @sallytrades We’ll go again when it hits $5\n",
      "1442887603817156612 2021-09-28 09:23:06 -0700 <MrZackMorris>  https://t.co/0mQXmJ2gKl\n",
      "1442883795385036801 2021-09-28 09:07:58 -0700 <MrZackMorris>  https://t.co/yUsrvVCMaW\n",
      "1442883510772056067 2021-09-28 09:06:51 -0700 <MrZackMorris> @PoetsAndKings21 Lake Conroe\n",
      "1442883379368767490 2021-09-28 09:06:19 -0700 <MrZackMorris> @Moonlight_Tech Yep\n",
      "1442883314143084556 2021-09-28 09:06:04 -0700 <MrZackMorris> @picaboostunna No just my butthole\n",
      "1442883227392299017 2021-09-28 09:05:43 -0700 <MrZackMorris> @bdawg_94 Pick me up\n",
      "1442883066050105354 2021-09-28 09:05:05 -0700 <MrZackMorris> @merica_stocks @DipDeity My bro in law lives there\n",
      "1442882874731028484 2021-09-28 09:04:19 -0700 <MrZackMorris> @yelotree Yes\n",
      "1442882101548830727 2021-09-28 09:01:15 -0700 <MrZackMorris> @yousefomari29 A lot and all of them\n",
      "1442881949228482562 2021-09-28 09:00:38 -0700 <MrZackMorris> @lukeskystocker Done\n",
      "1442881473363722246 2021-09-28 08:58:45 -0700 <MrZackMorris> Life is good if you swing for the fences  https://t.co/UAdtSaEYaD\n",
      "1442879256862806024 2021-09-28 08:49:56 -0700 <MrZackMorris>  https://t.co/FvGSbsqX3S\n",
      "1442875069378662402 2021-09-28 08:33:18 -0700 <MrZackMorris> @jarredvennett Prob q4\n",
      "1442874890671951892 2021-09-28 08:32:35 -0700 <MrZackMorris> @MyCBBModel You’re very welcome\n",
      "1442873548322836481 2021-09-28 08:27:15 -0700 <MrZackMorris> $CEI These are the dips that you want. They get bought up and trap more shorts\n",
      "1442872991524655109 2021-09-28 08:25:03 -0700 <MrZackMorris> $CEI We’re early  https://t.co/tiUPzEfcq4\n",
      "1442867550501572621 2021-09-28 08:03:25 -0700 <MrZackMorris> $DATS Shorts are in at $12 Let’s use them to get the next leg up\n",
      "1442866896848646146 2021-09-28 08:00:50 -0700 <MrZackMorris> My bad I didn’t mean to tag you lol\n",
      "1442866815248465922 2021-09-28 08:00:30 -0700 <MrZackMorris> @MTradess  https://t.co/ap4A9Jh9mj\n",
      "1442866494413553664 2021-09-28 07:59:14 -0700 <MrZackMorris> @MTradess $30 no question maybe $50\n",
      "1442863734716784643 2021-09-28 07:48:16 -0700 <MrZackMorris>  https://t.co/4Kq844bpbN\n",
      "1442862449695158273 2021-09-28 07:43:09 -0700 <MrZackMorris> $DATS Trap these short hoes\n",
      "1442862362134913027 2021-09-28 07:42:48 -0700 <MrZackMorris> $CEI Shorts going to burn  https://t.co/HDcawuJToQ\n",
      "1442862207604199433 2021-09-28 07:42:12 -0700 <MrZackMorris> @MrSbayltg No\n",
      "1442862036744957958 2021-09-28 07:41:31 -0700 <MrZackMorris> $CEI Awww about to trap some more shorts. Keep fueling us baby\n",
      "1442859707274706949 2021-09-28 07:32:15 -0700 <MrZackMorris>  https://t.co/WIErYbhzPe\n",
      "1442855224859844608 2021-09-28 07:14:27 -0700 <MrZackMorris> You say no to ratchet equities, Zachary can’t\n",
      "1442850882333417473 2021-09-28 06:57:11 -0700 <MrZackMorris>  https://t.co/XWA3rWvlCF\n",
      "1442849848080965640 2021-09-28 06:53:05 -0700 <MrZackMorris> @Drob814 You guys ok? @Amp_Trades @elkwood66\n",
      "1442848798393384976 2021-09-28 06:48:55 -0700 <MrZackMorris> It’s all possible  https://t.co/LQ2m46fay0\n",
      "1442848384419827720 2021-09-28 06:47:16 -0700 <MrZackMorris>  https://t.co/0E1Ecng431\n",
      "1442847984857780229 2021-09-28 06:45:41 -0700 <MrZackMorris>  https://t.co/UsXfHxKjPV\n",
      "1442847708600049669 2021-09-28 06:44:35 -0700 <MrZackMorris>  https://t.co/1Rtjw0DGQV\n",
      "1442846974680739842 2021-09-28 06:41:40 -0700 <MrZackMorris> Shorts  https://t.co/Kbk5F3UYnD\n",
      "1442844965667803143 2021-09-28 06:33:41 -0700 <MrZackMorris> $CEI $DATS Let’s trap some more shorts and melt up\n",
      "1442842734042259458 2021-09-28 06:24:49 -0700 <MrZackMorris> Jealousy\n",
      "1442841628348137477 2021-09-28 06:20:25 -0700 <MrZackMorris> @itschris96 That’s based on the old company. They are actually solid now\n",
      "1442840914527928331 2021-09-28 06:17:35 -0700 <MrZackMorris> @eric_greynolds_ Tell that to FCEL\n",
      "1442840717173395456 2021-09-28 06:16:48 -0700 <MrZackMorris> @JDTrades16 @deltagammaqueen @LadeBackk Yea to serve us drinks\n",
      "1442840631655772171 2021-09-28 06:16:27 -0700 <MrZackMorris> @itschris96 $5+++ why would it go down?\n",
      "1442839797563891716 2021-09-28 06:13:09 -0700 <MrZackMorris> @BigRuiDad $CEI\n",
      "1442839680391782403 2021-09-28 06:12:41 -0700 <MrZackMorris> $CEI We consolidate at $3 and then we push to $5 then $10\n",
      "1442837527254212608 2021-09-28 06:04:07 -0700 <MrZackMorris> @LadeBackk You live there\n",
      "1442833532552949766 2021-09-28 05:48:15 -0700 <MrZackMorris>  https://t.co/cMuRmarBQP  https://t.co/pAlXo9RT63\n",
      "1442833353699479553 2021-09-28 05:47:32 -0700 <MrZackMorris>  https://t.co/qw08YZHioF  https://t.co/IJdpWwX3FP\n",
      "1442833075629666305 2021-09-28 05:46:26 -0700 <MrZackMorris> @SpiroTrades He’s broke who cares\n",
      "1442827722401718273 2021-09-28 05:25:10 -0700 <MrZackMorris> @HO_LEE_CHIT_ @NerveCranial Great DD bro\n",
      "1442827468893794316 2021-09-28 05:24:09 -0700 <MrZackMorris> @OnlineID2021 @OfficialPodo @HO_LEE_CHIT_ I use it all the time and there’s a big update coming in 2 weeks\n"
     ]
    },
    {
     "name": "stdout",
     "output_type": "stream",
     "text": [
      "1442824665429331979 2021-09-28 05:13:01 -0700 <MrZackMorris> @ScottDurden1 Wow\n",
      "1442824544402694146 2021-09-28 05:12:32 -0700 <MrZackMorris>  https://t.co/muiCXakslW\n",
      "1442822186604109827 2021-09-28 05:03:10 -0700 <MrZackMorris> @HO_LEE_CHIT_ @LawdRyanHall  https://t.co/3erWvHCFwf\n",
      "1442818757856989184 2021-09-28 04:49:32 -0700 <MrZackMorris> She’s also all in on $DATS\n",
      "1442818554450096128 2021-09-28 04:48:44 -0700 <MrZackMorris> @unusual_whales I know a guy\n",
      "1442818447696699392 2021-09-28 04:48:18 -0700 <MrZackMorris>  https://t.co/zqPhatZiNR\n",
      "1442816452164263945 2021-09-28 04:40:23 -0700 <MrZackMorris> It’s a great day  https://t.co/1Li3SbjoV5\n",
      "1442813614969303045 2021-09-28 04:29:06 -0700 <MrZackMorris>  https://t.co/CNsz7O7gQL\n",
      "1442811476700454913 2021-09-28 04:20:36 -0700 <MrZackMorris>  https://t.co/3cCFmSlE8P\n",
      "1442809989454782470 2021-09-28 04:14:42 -0700 <MrZackMorris> @HirviOr @LadeBackk Think before you tweet\n",
      "1442809818939527174 2021-09-28 04:14:01 -0700 <MrZackMorris>  https://t.co/qViNRCikcT\n",
      "1442809411236503554 2021-09-28 04:12:24 -0700 <MrZackMorris> We’re going to Miami bitch @Amp_Trades  https://t.co/xsefVMH4Pl\n",
      "1442809253929136128 2021-09-28 04:11:46 -0700 <MrZackMorris> We’ll start planning MIAMI this week!! Congratulations!!!🎉🍾🎈🎊 $5 next!!! @LadeBackk\n",
      "1442805041451122690 2021-09-28 03:55:02 -0700 <MrZackMorris> Good morning! Everyone is going to be rich.  https://t.co/vjRs5R5Dhp\n",
      "1442803603614445570 2021-09-28 03:49:19 -0700 <MrZackMorris> @Ali72342563 On dips only\n",
      "1442803461339373568 2021-09-28 03:48:45 -0700 <MrZackMorris> @HO_LEE_CHIT_ @Tiamat120 @LadeBackk All my buddies in the oil business said 100\n",
      "1442803326836486146 2021-09-28 03:48:13 -0700 <MrZackMorris> OIL going to $100 $CEI going to $10\n",
      "1442802051554189312 2021-09-28 03:43:09 -0700 <MrZackMorris> @iamLewcid That’s not me\n",
      "1442801811136655364 2021-09-28 03:42:12 -0700 <MrZackMorris> @NerveCranial @SmallGains1111 Both amazing\n",
      "1442801418587590657 2021-09-28 03:40:38 -0700 <MrZackMorris> @TheMoneyMuntz @tylerturner2 Nah\n",
      "1442661464154722312 2021-09-27 18:24:31 -0700 <MrZackMorris> Datchat  https://t.co/cMuRmarBQP\n",
      "1442661291513073667 2021-09-27 18:23:49 -0700 <MrZackMorris>  https://t.co/qw08YZHioF\n",
      "1442660601659023366 2021-09-27 18:21:05 -0700 <MrZackMorris> @Mr_Derivatives We’re going over $5\n",
      "1442657243112030216 2021-09-27 18:07:44 -0700 <MrZackMorris> @LadeBackk Thank you shorts\n",
      "1442638343926333441 2021-09-27 16:52:38 -0700 <MrZackMorris> $CEI $DATS See you tomorrow shorts\n",
      "1442634869243318272 2021-09-27 16:38:50 -0700 <MrZackMorris>  https://t.co/cMuRmarBQP\n",
      "1442632845680422918 2021-09-27 16:30:47 -0700 <MrZackMorris> @CrackedJordan  https://t.co/ilsu5lC3ZQ\n",
      "1442618574393249804 2021-09-27 15:34:05 -0700 <MrZackMorris> 16k on REDDIT!!  https://t.co/qw08YZHioF  https://t.co/KPCHG7vHf9\n",
      "1442617955574030336 2021-09-27 15:31:37 -0700 <MrZackMorris>  https://t.co/twjDhs4O7M\n",
      "1442616193366511617 2021-09-27 15:24:37 -0700 <MrZackMorris> @Rebeccahhhhhh That’s what she said\n",
      "1442615417718001664 2021-09-27 15:21:32 -0700 <MrZackMorris> $7 then $10 then $20 and then we retire\n",
      "1442611349289259009 2021-09-27 15:05:22 -0700 <MrZackMorris> $5++\n",
      "1442597584468471813 2021-09-27 14:10:40 -0700 <MrZackMorris> @OnlineID2021 $DATS Float is locked\n",
      "1442597328209072141 2021-09-27 14:09:39 -0700 <MrZackMorris> $CEI Don’t be afraid to love\n",
      "1442593764002893825 2021-09-27 13:55:30 -0700 <MrZackMorris> @man_theta Yes I do\n",
      "1442593622713503756 2021-09-27 13:54:56 -0700 <MrZackMorris>  https://t.co/qw08YZYTgd\n",
      "1442590666538717184 2021-09-27 13:43:11 -0700 <MrZackMorris> @masavenya He’s green!\n",
      "1442589749571510282 2021-09-27 13:39:32 -0700 <MrZackMorris> @eugeniemichael_ Thank you\n",
      "1442587633968889857 2021-09-27 13:31:08 -0700 <MrZackMorris> Moment of silence for the shorts\n",
      "1442584880500682756 2021-09-27 13:20:12 -0700 <MrZackMorris> @BeginnerInvest4 Oh shut up you got like 2 new followers\n",
      "1442583909682847752 2021-09-27 13:16:20 -0700 <MrZackMorris> Awwww I haven’t sold one share $CEI. See you at $5 -10  https://t.co/w7OmuZ9fuB\n",
      "1442583650688806914 2021-09-27 13:15:18 -0700 <MrZackMorris> @BNelden I’m not leaving\n",
      "1442581880138764289 2021-09-27 13:08:16 -0700 <MrZackMorris>  https://t.co/KvEKZBsqlb\n",
      "1442578633315414018 2021-09-27 12:55:22 -0700 <MrZackMorris> @ @LadeBackk  https://t.co/ksSAnwhJto\n",
      "1442575772456206340 2021-09-27 12:44:00 -0700 <MrZackMorris>  https://t.co/Ad7LaxCtSC\n",
      "1442575169705455619 2021-09-27 12:41:36 -0700 <MrZackMorris>  https://t.co/zKLANtslkd\n",
      "1442567000648208392 2021-09-27 12:09:09 -0700 <MrZackMorris>  https://t.co/1xGlP5u0zD\n",
      "1442563396684165122 2021-09-27 11:54:49 -0700 <MrZackMorris> $CEI Another leg cumming\n",
      "1442556980732862467 2021-09-27 11:29:20 -0700 <MrZackMorris> $DATS $CEI let’s eat @LadeBackk  https://t.co/ByqsEkiPNB\n",
      "1442552575392288770 2021-09-27 11:11:49 -0700 <MrZackMorris> $DATS $15 soon. You gone learn shorts\n",
      "1442546919817953290 2021-09-27 10:49:21 -0700 <MrZackMorris>  https://t.co/cMuRmaJcIn\n",
      "1442545887809576968 2021-09-27 10:45:15 -0700 <MrZackMorris>  https://t.co/hvbNXQA35N\n",
      "1442543858978463744 2021-09-27 10:37:11 -0700 <MrZackMorris> I agree. My biggest pet peeve is seeing a gap and not being able to fill it.\n",
      "1442538252376891395 2021-09-27 10:14:55 -0700 <MrZackMorris>  https://t.co/qw08YZHioF\n",
      "1442529524063870977 2021-09-27 09:40:14 -0700 <MrZackMorris> @Amp_Trades I own you hoes\n",
      "1442529297755951107 2021-09-27 09:39:20 -0700 <MrZackMorris> When someone tells me to wear my boner pants, I wear my boner pants.\n",
      "1442528059748352012 2021-09-27 09:34:24 -0700 <MrZackMorris> $DATS AWWWW BACK TO $12\n",
      "1442519040820346888 2021-09-27 08:58:34 -0700 <MrZackMorris> @LadeBackk  https://t.co/ON8qWNdSsG\n",
      "1442517675104739329 2021-09-27 08:53:09 -0700 <MrZackMorris> F FCEL 2.0 THIS is $CEI 1.0 We’re going to MARS\n",
      "1442517486772146176 2021-09-27 08:52:24 -0700 <MrZackMorris> $DATS will they cover at $30?\n",
      "1442515244979408897 2021-09-27 08:43:29 -0700 <MrZackMorris> @Amp_Trades Awwww no you’re a terrible day trader\n",
      "1442514676605091842 2021-09-27 08:41:14 -0700 <MrZackMorris> Awwww 🤡\n",
      "1442513364979228676 2021-09-27 08:36:01 -0700 <MrZackMorris> Let’s do a Miami head count\n",
      "1442510720793513991 2021-09-27 08:25:31 -0700 <MrZackMorris>  https://t.co/iDhyoWQwpQ\n",
      "1442508795637346307 2021-09-27 08:17:52 -0700 <MrZackMorris> MORTAL KOMBAT!!!!!!!!!!\n",
      "1442508719368155141 2021-09-27 08:17:33 -0700 <MrZackMorris> $CEI Viking updated their website just now to include their new Power Solutions and Clean Energy Divisions  https://t.co/KCdnlp3CQ4\n",
      "1442507299726233602 2021-09-27 08:11:55 -0700 <MrZackMorris>  https://t.co/bPITxDpRzr\n",
      "1442506070702714888 2021-09-27 08:07:02 -0700 <MrZackMorris> @LadeBackk Your new shower is sick\n",
      "1442503579940519937 2021-09-27 07:57:08 -0700 <MrZackMorris> @scottschrey No I took edibles to sleep\n",
      "1442503312453025792 2021-09-27 07:56:04 -0700 <MrZackMorris>  https://t.co/Ugr4UsjZ8d\n",
      "1442502747568230403 2021-09-27 07:53:50 -0700 <MrZackMorris> @traderstewie @Himansh27418107 @RedDogT3 @Trendspider_J $DATS we’re going over $30\n",
      "1442499560425807875 2021-09-27 07:41:10 -0700 <MrZackMorris>  https://t.co/y5qben61yu\n",
      "1442496677382746124 2021-09-27 07:29:42 -0700 <MrZackMorris>  https://t.co/aTiBkRCUiq\n",
      "1442495281044418565 2021-09-27 07:24:09 -0700 <MrZackMorris>  https://t.co/FUIiKi8w08\n",
      "1442492271837028362 2021-09-27 07:12:12 -0700 <MrZackMorris> $CEI WE’RE EARLY  https://t.co/uf2O0QdHpL\n",
      "1442491855581687809 2021-09-27 07:10:33 -0700 <MrZackMorris> $DATS poor short\n",
      "1442490130804133890 2021-09-27 07:03:42 -0700 <MrZackMorris> @ @LadeBackk\n",
      "1442488197087367171 2021-09-27 06:56:00 -0700 <MrZackMorris>  https://t.co/GbbeJDHTVk\n",
      "1442355832629366784 2021-09-26 22:10:02 -0700 <MrZackMorris> @TKGLikesStocks @DipDeity @Hugh_Henne Better the car than you\n",
      "1442349321437913091 2021-09-26 21:44:10 -0700 <MrZackMorris> @blakestonks @DipDeity Thanks for noticing\n",
      "1442310938883883018 2021-09-26 19:11:39 -0700 <MrZackMorris>  https://t.co/mmiRKNkw3l\n",
      "1442300301206249473 2021-09-26 18:29:23 -0700 <MrZackMorris> @saltercas88 @DipDeity Nah I’ll keep posting these\n",
      "1442294425112268800 2021-09-26 18:06:02 -0700 <MrZackMorris> Good thing we’re early $CEI @LadeBackk COME @ US.\n",
      "1442282294849380357 2021-09-26 17:17:50 -0700 <MrZackMorris>  https://t.co/qw08YZYTgd\n",
      "1442281021093793793 2021-09-26 17:12:46 -0700 <MrZackMorris> @Brianna28517655 @jbsteelers36 Where’s my check bitch\n",
      "1442280925295890433 2021-09-26 17:12:23 -0700 <MrZackMorris> @Andrewmadea1000 @LadeBackk 💯\n",
      "1442280264592289793 2021-09-26 17:09:46 -0700 <MrZackMorris> We did\n",
      "1442272605042511875 2021-09-26 16:39:19 -0700 <MrZackMorris> @ToddSpence @DipDeity Enjoy your pretty feet pussy\n",
      "1442257225888718853 2021-09-26 15:38:13 -0700 <MrZackMorris> @nicholasdeluca I just signed what was in front of me\n",
      "1442253738664595456 2021-09-26 15:24:21 -0700 <MrZackMorris> Awwww we’re going to be rich $CEI\n",
      "1442245308335808512 2021-09-26 14:50:51 -0700 <MrZackMorris> @quintus_9 I love all my Saudi family\n",
      "1442239066670452736 2021-09-26 14:26:03 -0700 <MrZackMorris> Awwwww bitch boy  https://t.co/M62KmPbpDB\n",
      "1442238723157069825 2021-09-26 14:24:41 -0700 <MrZackMorris> Saudi Zack\n",
      "1442234192486539267 2021-09-26 14:06:41 -0700 <MrZackMorris> F with me and get some money\n",
      "1442231343635644417 2021-09-26 13:55:22 -0700 <MrZackMorris> @zenfoto1969 Enough cash for a year check and we’re in the lock up period. ✅✅\n",
      "1442228202005401601 2021-09-26 13:42:53 -0700 <MrZackMorris> Horsing around\n",
      "1442214887430623232 2021-09-26 12:49:58 -0700 <MrZackMorris> @Prangelov12 @BeginnerInvest4 It’s very legal. Have you read up on it? My lawyer has\n",
      "1442214174931632139 2021-09-26 12:47:09 -0700 <MrZackMorris> @frasertom24 @DipDeity Lol it was Dan’s phone\n",
      "1442211913501265921 2021-09-26 12:38:09 -0700 <MrZackMorris> @Stixizza Like a boss\n",
      "1442207852169474052 2021-09-26 12:22:01 -0700 <MrZackMorris> @JdubAndrew @BeginnerInvest4 2.70 to $7.94 is a winner in my book\n"
     ]
    },
    {
     "name": "stdout",
     "output_type": "stream",
     "text": [
      "1442207697902845953 2021-09-26 12:21:24 -0700 <MrZackMorris> @Prangelov12 @BeginnerInvest4 Cool post your accomplishments\n",
      "1442207598602637312 2021-09-26 12:21:01 -0700 <MrZackMorris> @killips_scott @BeginnerInvest4 Cool I started with $800\n",
      "1442206160157700098 2021-09-26 12:15:18 -0700 <MrZackMorris> @FrankSki11 @KindTruth2 @jbsteelers36 @InversorHonesto @Boytrader08 @ACInvestorBlog @anyatrades After it’s over $30\n",
      "1442201513665826818 2021-09-26 11:56:50 -0700 <MrZackMorris> @KindTruth2 @jbsteelers36 @InversorHonesto @Boytrader08 @ACInvestorBlog @anyatrades  https://t.co/Pp167LJu15\n",
      "1442190056433717251 2021-09-26 11:11:18 -0700 <MrZackMorris> @BMstonks Prob higher\n",
      "1442179525253767169 2021-09-26 10:29:27 -0700 <MrZackMorris> Oil is going to get stupid high soon and $CEI will supernova with it\n",
      "1442173503755587584 2021-09-26 10:05:32 -0700 <MrZackMorris> @TdubtheGOAT @DipDeity Good point\n",
      "1442168722555383810 2021-09-26 09:46:32 -0700 <MrZackMorris> @Bullrun_Hunter @play_progress I have something like that in the works\n",
      "1442167999692251141 2021-09-26 09:43:39 -0700 <MrZackMorris> @play_progress I’ll keep it on silent\n",
      "1442167891751628812 2021-09-26 09:43:14 -0700 <MrZackMorris> @grosa17  https://t.co/qkVn5bM7f1\n",
      "1442167069655584775 2021-09-26 09:39:58 -0700 <MrZackMorris> My official Reddit and I have no clue how to use it  https://t.co/6zwJaZ2nbS\n",
      "1442166423745347590 2021-09-26 09:37:24 -0700 <MrZackMorris> @MrCharlieMorris Stop fing gambling when I’m not home.\n",
      "1442161370007588868 2021-09-26 09:17:19 -0700 <MrZackMorris> There’s men and there’s @DipDeity  https://t.co/9lekDN1Lot\n",
      "1442120500570845186 2021-09-26 06:34:55 -0700 <MrZackMorris> @rcasliz Offerings will get bought out\n",
      "1442112013841444864 2021-09-26 06:01:11 -0700 <MrZackMorris> @TTInvesting @InversorHonesto Demand\n",
      "1442098515744894984 2021-09-26 05:07:33 -0700 <MrZackMorris> We were looking for $10 but $90 Sounds cool\n",
      "1442098103117484040 2021-09-26 05:05:55 -0700 <MrZackMorris> @InversorHonesto @Boytrader08 @ACInvestorBlog @anyatrades Si papi\n",
      "1441933845641809921 2021-09-25 18:13:13 -0700 <MrZackMorris> @Cmast_10 @cuzzintv Impressive 🎉🎉\n",
      "1441929657956265988 2021-09-25 17:56:34 -0700 <MrZackMorris> @InsatiableOgre Me\n",
      "1441881928974667782 2021-09-25 14:46:55 -0700 <MrZackMorris> @LiveForMore44 @letbrucehitit @TheGaskins  https://t.co/bMp61RAyqa\n",
      "1441868491729014786 2021-09-25 13:53:31 -0700 <MrZackMorris> @focus604778 @letbrucehitit Wish or eBay blue blockers\n",
      "1441868260870344704 2021-09-25 13:52:36 -0700 <MrZackMorris> @MrFourToEight @letbrucehitit You should. I’m getting another place where Dan is at\n",
      "1441860818555924482 2021-09-25 13:23:02 -0700 <MrZackMorris> @CheftraderDavid You’re invited. I’ll have my wife call your wife an ask if you can sleep over\n",
      "1441853767415070724 2021-09-25 12:55:01 -0700 <MrZackMorris> @man_theta @letbrucehitit Tonal bro\n",
      "1441836851770363904 2021-09-25 11:47:48 -0700 <MrZackMorris> You see this shit @LadeBackk\n",
      "1441836715933638656 2021-09-25 11:47:15 -0700 <MrZackMorris> They don’t even fing tag me\n",
      "1441835435504934912 2021-09-25 11:42:10 -0700 <MrZackMorris> @jesusinvests @ClayAnderson10 $30+\n",
      "1441811161700315140 2021-09-25 10:05:43 -0700 <MrZackMorris> @Shelton_TN @DonnieStocks @Naz48487615 He’s fucked\n",
      "1441776154638118917 2021-09-25 07:46:36 -0700 <MrZackMorris> @Daddy69Hoosier Of course\n",
      "1441772263942942721 2021-09-25 07:31:09 -0700 <MrZackMorris> @jack_mf_smith @warrenpuffettt @HowieLongggg You do cry a lot\n",
      "1441772063203545092 2021-09-25 07:30:21 -0700 <MrZackMorris> @Treble_R3 Hardly ever too much of a gamble for me\n",
      "1441771905334251527 2021-09-25 07:29:43 -0700 <MrZackMorris> @Shelton_TN @optionshawn @ValueInvestorRN Got the same push back for $FUBO $AMC\n",
      "1441771118239666179 2021-09-25 07:26:36 -0700 <MrZackMorris> @Stk_gainz @NetSecAI @YedHelms Yea baby!!\n",
      "1441770959917105155 2021-09-25 07:25:58 -0700 <MrZackMorris> 👏👏👏👏👏👏👏👏👏\n",
      "1441770516650418177 2021-09-25 07:24:12 -0700 <MrZackMorris> @optionshawn @ValueInvestorRN $30+ Don’t worry and they will get bought out\n",
      "1441769766008463362 2021-09-25 07:21:13 -0700 <MrZackMorris> @confusedwomprat If you want to have that mentality go for it\n",
      "1441768765977366540 2021-09-25 07:17:15 -0700 <MrZackMorris> @ACInvestorBlog You too playaa\n",
      "1441763101330878474 2021-09-25 06:54:44 -0700 <MrZackMorris> @Formula_LK @ValueInvestorRN It’s getting a refresh as well as a desktop version in October. It won’t look the same\n",
      "1441756348622925834 2021-09-25 06:27:54 -0700 <MrZackMorris> @CodyZonneveld @FranklinSaint84 We’re going to $10  https://t.co/M61Pl5Vzz9\n",
      "1441756247624228864 2021-09-25 06:27:30 -0700 <MrZackMorris> @DukkerRuben @Goodvibez811 Why Wouldn’t we\n",
      "1441755404808118273 2021-09-25 06:24:09 -0700 <MrZackMorris> @Goodvibez811 Wait for the next\n",
      "1441753071990702091 2021-09-25 06:14:53 -0700 <MrZackMorris> All it takes is 1 trade\n",
      "1441596775480111105 2021-09-24 19:53:49 -0700 <MrZackMorris> @ModernFoto Lollll\n",
      "1441564041793753089 2021-09-24 17:43:45 -0700 <MrZackMorris> @LadeBackk  https://t.co/kfDjc1aV7h\n",
      "1441561152928894980 2021-09-24 17:32:16 -0700 <MrZackMorris> @LadeBackk It means Yes\n",
      "1441560855112417281 2021-09-24 17:31:05 -0700 <MrZackMorris> @LadeBackk  https://t.co/sfL0a0o4Ym\n",
      "1441555373270487040 2021-09-24 17:09:18 -0700 <MrZackMorris> @ChefDaddyTrade1 I took a loss on TMC too. It gave a few nice scalp opportunities but I was wanting a bigger move\n",
      "1441543651264319501 2021-09-24 16:22:43 -0700 <MrZackMorris> @MTradess Streets is watching\n",
      "1441529892936552448 2021-09-24 15:28:03 -0700 <MrZackMorris> @davidlovesit @ohheytommy He prob fell asleep in his car.\n",
      "1441529352030674945 2021-09-24 15:25:54 -0700 <MrZackMorris> @Gotteeth23 Chilllllll\n",
      "1441529040859537409 2021-09-24 15:24:40 -0700 <MrZackMorris> @getzy89  https://t.co/zzE4aN5YTY\n",
      "1441528881681506305 2021-09-24 15:24:02 -0700 <MrZackMorris> @The_RockTrading We’re gonna wreck shorts\n",
      "1441526289093980163 2021-09-24 15:13:44 -0700 <MrZackMorris> @ScorpionCapLLC  https://t.co/zzE4aNnzLw\n",
      "1441525852131397636 2021-09-24 15:12:00 -0700 <MrZackMorris> @man_theta @StaabyStocks He needs to earn it\n",
      "1441525607305777152 2021-09-24 15:11:01 -0700 <MrZackMorris> @StaabyStocks Yea sonnnnn\n",
      "1441517146664701953 2021-09-24 14:37:24 -0700 <MrZackMorris> @MrCharlieMorris @MorrisCart\n",
      "1441516901729902595 2021-09-24 14:36:26 -0700 <MrZackMorris>  https://t.co/2TnpEs28ak\n",
      "1441515639768850437 2021-09-24 14:31:25 -0700 <MrZackMorris> $CEI  https://t.co/UIN1GcdzD1\n",
      "1441512485895409665 2021-09-24 14:18:53 -0700 <MrZackMorris> Duh\n",
      "1441512114355638272 2021-09-24 14:17:24 -0700 <MrZackMorris> @ItsJeremyReal Shut up Pussy  https://t.co/EzGAlVfWtI\n",
      "1441504570413289474 2021-09-24 13:47:26 -0700 <MrZackMorris> @drewtrades_ Just sent you my application. Lock it in\n",
      "1441493068658716673 2021-09-24 13:01:43 -0700 <MrZackMorris> Amazing week!!!!! Congratulations!!!\n",
      "1441491770001408000 2021-09-24 12:56:34 -0700 <MrZackMorris> $CEI\n",
      "1441491186737369089 2021-09-24 12:54:15 -0700 <MrZackMorris> $DATS $CEI  https://t.co/KEaJ001DpH\n",
      "1441488828624216068 2021-09-24 12:44:52 -0700 <MrZackMorris> @TKB2021 Wait for the next one and buy at the bottom\n",
      "1441488740912807938 2021-09-24 12:44:32 -0700 <MrZackMorris> @mr_wicht I didn’t. I played yesterday that this is a great entry. We’ll have our day too\n",
      "1441488527863209987 2021-09-24 12:43:41 -0700 <MrZackMorris> @The_RockTrading @ringo_twits @ThaTrapLawd I can see Apple Microsoft or Samsung buying them out\n",
      "1441488070843551748 2021-09-24 12:41:52 -0700 <MrZackMorris>  https://t.co/dPZBwrd0Pl\n",
      "1441487097634836480 2021-09-24 12:38:00 -0700 <MrZackMorris> @LadeBackk Multi\n",
      "1441486738136907778 2021-09-24 12:36:34 -0700 <MrZackMorris> @ringo_twits @ThaTrapLawd @The_RockTrading I’ve been using it non stop since I got it\n",
      "1441485056762122242 2021-09-24 12:29:53 -0700 <MrZackMorris> $DATS AWW back over $11 that short is fucked  https://t.co/Nq5hDqKXsz\n",
      "1441480747274096641 2021-09-24 12:12:46 -0700 <MrZackMorris> HAHAHAHAHAH HELLLLLPPPPPPPP\n",
      "1441479957285376001 2021-09-24 12:09:37 -0700 <MrZackMorris> $CEI Extra crispy @LadeBackk  https://t.co/WM49M4kdzN\n",
      "1441477770471636998 2021-09-24 12:00:56 -0700 <MrZackMorris> 🤡🤡🤡🤡🤡🤡🤡\n",
      "1441477194149023754 2021-09-24 11:58:39 -0700 <MrZackMorris> $DATS We’re early and shorts are trying hard. We’ll squeeze that seeking alpha hoe. He’s short. See you over $30 bitches  https://t.co/j5Po7pZPm3\n",
      "1441463326647767044 2021-09-24 11:03:32 -0700 <MrZackMorris> @WhyAreYouSaadd We’re holding for $5 plus\n",
      "1441463303260151808 2021-09-24 11:03:27 -0700 <MrZackMorris> $CEI $3 next week?  https://t.co/xOQKzUGlil\n",
      "1441455550575824897 2021-09-24 10:32:38 -0700 <MrZackMorris> @mack63692712 @TheStockKnight1 $30+\n",
      "1441453361576951810 2021-09-24 10:23:56 -0700 <MrZackMorris> $CEI is the next $CEI\n",
      "1441449885937676293 2021-09-24 10:10:08 -0700 <MrZackMorris> @kirwanjk1 Been there\n"
     ]
    },
    {
     "name": "stdout",
     "output_type": "stream",
     "text": [
      "1441449266942197761 2021-09-24 10:07:40 -0700 <MrZackMorris> @christinebarnum Thanks!\n",
      "1441445099393597448 2021-09-24 09:51:07 -0700 <MrZackMorris> BRB  https://t.co/zn5HKWxh9p\n",
      "1441441699226603520 2021-09-24 09:37:36 -0700 <MrZackMorris>  https://t.co/AotTKzRgit\n",
      "1441437741166829571 2021-09-24 09:21:52 -0700 <MrZackMorris> @JoseCar37702513 There\n",
      "1441437620211384327 2021-09-24 09:21:23 -0700 <MrZackMorris> @Macaula15664049 Dips only\n",
      "1441437513382563845 2021-09-24 09:20:58 -0700 <MrZackMorris> @JoseCar37702513 They’ll get their ass handed their too\n",
      "1441437268120457230 2021-09-24 09:19:59 -0700 <MrZackMorris> Awwwwwww poor shorts\n",
      "1441436653164302336 2021-09-24 09:17:33 -0700 <MrZackMorris> $DATS Weird how dips always get ate up\n",
      "1441431789290016770 2021-09-24 08:58:13 -0700 <MrZackMorris> @majestic_ocean Bottomless\n",
      "1441431468161609734 2021-09-24 08:56:57 -0700 <MrZackMorris> @joshhidalgo1 No they are too stubborn\n",
      "1441430522727653378 2021-09-24 08:53:11 -0700 <MrZackMorris> It will\n",
      "1441430477185826822 2021-09-24 08:53:00 -0700 <MrZackMorris> @LadeBackk You should model for Newport.\n",
      "1441429653378449409 2021-09-24 08:49:44 -0700 <MrZackMorris> @MTradess Gotcha bitch\n",
      "1441429406728261634 2021-09-24 08:48:45 -0700 <MrZackMorris> Yes\n",
      "1441417504312733696 2021-09-24 08:01:27 -0700 <MrZackMorris> @GiveBackGamer FUBO original call went from 10 to $60+. We messed up by getting back in\n",
      "1441410949680963585 2021-09-24 07:35:25 -0700 <MrZackMorris>  https://t.co/2Cf60HP3BZ\n",
      "1441410503474139136 2021-09-24 07:33:38 -0700 <MrZackMorris> 🚨🚨🚨🚨🚨🚨🚨🚨\n",
      "1441410231041396738 2021-09-24 07:32:33 -0700 <MrZackMorris> $CEI Take your shirts off  https://t.co/P01WLZh1Eu\n",
      "1441406691648618496 2021-09-24 07:18:29 -0700 <MrZackMorris> @dueff2clampy Not till $CEI is done\n",
      "1441405889857130498 2021-09-24 07:15:18 -0700 <MrZackMorris>  https://t.co/QG2P3aF03P\n",
      "1441403431063678987 2021-09-24 07:05:32 -0700 <MrZackMorris> @TheStockKnight1 @engala2_n Nope\n",
      "1441401067846057985 2021-09-24 06:56:09 -0700 <MrZackMorris> $CEI Love is blind\n",
      "1441399677589417987 2021-09-24 06:50:37 -0700 <MrZackMorris>  https://t.co/wo4zvslYPL\n",
      "1441398422502662158 2021-09-24 06:45:38 -0700 <MrZackMorris>  https://t.co/xcbF0IZpTa\n",
      "1441397208486748162 2021-09-24 06:40:49 -0700 <MrZackMorris> $CEI $2!!!! $3 Next!!!!! Congrats!!! @LadeBackk SUCK US SHORTS!!!! You pieces of crap!\n",
      "1441393443578671111 2021-09-24 06:25:51 -0700 <MrZackMorris> @SmallGains1111 She likes country\n",
      "1441391412034084866 2021-09-24 06:17:47 -0700 <MrZackMorris> @stockpunk7 My expectations are usually low on Friday\n",
      "1441391084962123777 2021-09-24 06:16:29 -0700 <MrZackMorris> Good morning! We had a great week! Let’s start strong on Monday!  https://t.co/g3qUlhoqVu\n",
      "1441376075553124352 2021-09-24 05:16:50 -0700 <MrZackMorris> @wapaaaaa576 Exactly\n",
      "1441374650647277569 2021-09-24 05:11:10 -0700 <MrZackMorris> @Pogo881 @RWied44 This will definitely pull an FCEL\n",
      "1441373004584218631 2021-09-24 05:04:38 -0700 <MrZackMorris> @MrDeeds70597150 @SuperLuckeee It’s Michael but I like to pretend it’s Esther lol\n",
      "1441366310403788802 2021-09-24 04:38:02 -0700 <MrZackMorris> @ChatterQuant Yooo that’s awesome!\n",
      "1441365466035810311 2021-09-24 04:34:41 -0700 <MrZackMorris> @LadeBackk Plus you need $CEI to supernova if you really want sympathies to work.\n",
      "1441365141044350988 2021-09-24 04:33:23 -0700 <MrZackMorris>  https://t.co/jxc030tEfl\n",
      "1441362655847981062 2021-09-24 04:23:31 -0700 <MrZackMorris> @TristenWhitney Support\n",
      "1441361877418725383 2021-09-24 04:20:25 -0700 <MrZackMorris> $DATS Buy deep pull backs only. We lots of news on the way.\n",
      "1441356657536077831 2021-09-24 03:59:40 -0700 <MrZackMorris> @LadeBackk  https://t.co/weEooWr5n7\n",
      "1441220689621491718 2021-09-23 18:59:23 -0700 <MrZackMorris> @RealtorStarShar Get lost\n",
      "1441216449280839681 2021-09-23 18:42:32 -0700 <MrZackMorris> @stevesfreshgear I’m 37, too Son\n",
      "1441215748727205895 2021-09-23 18:39:45 -0700 <MrZackMorris> @uncle_juniorrr Depends on the play CEI DATS I’m not looking to take any yet\n",
      "1441215159012188165 2021-09-23 18:37:25 -0700 <MrZackMorris> @RichieeSixxx No\n",
      "1441214546480271371 2021-09-23 18:34:59 -0700 <MrZackMorris> @CustovicInas @PGIRPod I explain it in the podcast\n",
      "1441214425638178821 2021-09-23 18:34:30 -0700 <MrZackMorris> @thedonalddump87 TMC was just good for scalp. It turned to crap after\n",
      "1441214218678595589 2021-09-23 18:33:40 -0700 <MrZackMorris> @myjsarefresh 💯\n",
      "1441213876553478148 2021-09-23 18:32:19 -0700 <MrZackMorris>  https://t.co/clwpbAkNZM\n",
      "1441210778468585477 2021-09-23 18:20:00 -0700 <MrZackMorris> @Losman843 If it’s near the bottom then I load\n",
      "1441208341712179211 2021-09-23 18:10:19 -0700 <MrZackMorris> @blakestonks Congrats bro!\n",
      "1441206747536920583 2021-09-23 18:03:59 -0700 <MrZackMorris> @rach16504067 I kept compounding my profits\n",
      "1441206198515245059 2021-09-23 18:01:48 -0700 <MrZackMorris> @DARTHTR4D3R That’s coming very soon. Shhh\n",
      "1441206068923699208 2021-09-23 18:01:17 -0700 <MrZackMorris> @StockTalks21 I started with $800\n",
      "1441205913600159747 2021-09-23 18:00:40 -0700 <MrZackMorris> @wetz91 I think 50k\n",
      "1441205745563803657 2021-09-23 18:00:00 -0700 <MrZackMorris> @StocksThatGo Took a los on EAR and my swings are working for me. I haven’t really traded since I got back from Reno. Let the swings work for you\n",
      "1441205261977276417 2021-09-23 17:58:05 -0700 <MrZackMorris> What my daily PnL used to like 2 years ago vs Now. Never settle  https://t.co/gYVgh7amcp\n",
      "1441204479693516805 2021-09-23 17:54:58 -0700 <MrZackMorris> @Nenesuazo86 @Oessiii Hey I like $50+\n",
      "1441203178431672327 2021-09-23 17:49:48 -0700 <MrZackMorris> @Weezus420 That’s what I like to see\n",
      "1441199224780050439 2021-09-23 17:34:06 -0700 <MrZackMorris> @vpi444 @WallstreetGainz Near brother\n",
      "1441196565050310658 2021-09-23 17:23:31 -0700 <MrZackMorris> @JohnThoms17 @notmrmanziel Yea I’m still doing that. I mean on Twitter\n",
      "1441196455927103488 2021-09-23 17:23:05 -0700 <MrZackMorris> @rich_serrano1 @notmrmanziel No lol\n",
      "1441196389061455872 2021-09-23 17:22:49 -0700 <MrZackMorris> Happy belated birthday @WallstreetGainz !!!\n",
      "1441196022680543236 2021-09-23 17:21:22 -0700 <MrZackMorris> Happy birthday @cmmorocho !\n",
      "1441194266219384832 2021-09-23 17:14:23 -0700 <MrZackMorris> @HowieLongggg @MrFourToEight She’s cute\n",
      "1441193519704535049 2021-09-23 17:11:25 -0700 <MrZackMorris> @notmrmanziel I’m only sticking to pennies from now on.\n",
      "1441187021649633288 2021-09-23 16:45:36 -0700 <MrZackMorris> Happy birthday @ApeTerallen !!\n",
      "1441185654537261063 2021-09-23 16:40:10 -0700 <MrZackMorris> Happy birthday @WallstreetNY1 !!\n",
      "1441160667940093966 2021-09-23 15:00:53 -0700 <MrZackMorris> @BBryant146 @Pennystockznews @pennystokgurus They used to be shit\n",
      "1441159184821604358 2021-09-23 14:54:59 -0700 <MrZackMorris> @TraderStuK Just move your stoploss up\n",
      "1441158115945234436 2021-09-23 14:50:44 -0700 <MrZackMorris> @BradThomas61 Aww I love you too\n",
      "1441157954799947777 2021-09-23 14:50:06 -0700 <MrZackMorris> $CEI is the next FCEL\n",
      "1441157775917293568 2021-09-23 14:49:23 -0700 <MrZackMorris> @DanielG04234458 Texas\n",
      "1441157163519512576 2021-09-23 14:46:57 -0700 <MrZackMorris> @be_a_sponge_ Original call was at 10\n",
      "1441153669681094656 2021-09-23 14:33:04 -0700 <MrZackMorris> @ohheytommy Wtfff that was on DatChat\n",
      "1441153498725457920 2021-09-23 14:32:24 -0700 <MrZackMorris> @SuperLuckeee $30 plus baby!!\n",
      "1441153418500919296 2021-09-23 14:32:04 -0700 <MrZackMorris> @christinebarnum Very nice hoodie\n",
      "1441153321620934656 2021-09-23 14:31:41 -0700 <MrZackMorris> @ohheytommy I love hating on you\n",
      "1441152262684823553 2021-09-23 14:27:29 -0700 <MrZackMorris> @Tech823V Ya\n",
      "1441151519722819585 2021-09-23 14:24:32 -0700 <MrZackMorris> @mjayrieg They always do\n",
      "1441151424973344771 2021-09-23 14:24:09 -0700 <MrZackMorris> @brimibo For what?\n",
      "1441149870887161857 2021-09-23 14:17:59 -0700 <MrZackMorris> @EatersFamily Cool story. $30+\n",
      "1441148535269990402 2021-09-23 14:12:40 -0700 <MrZackMorris> @TheAndrewPope Let me check my Crystal ball\n",
      "1441148102778372109 2021-09-23 14:10:57 -0700 <MrZackMorris> @DipDeity @LadeBackk They are my friends too\n",
      "1441147193763643396 2021-09-23 14:07:20 -0700 <MrZackMorris> @DipDeity @LadeBackk No joke. We’ll go to a bar and I look at Dan 15 mins later and he’s drunk.\n",
      "1441146899466129410 2021-09-23 14:06:10 -0700 <MrZackMorris>  https://t.co/da1mmdGnsK\n",
      "1441146804729417731 2021-09-23 14:05:48 -0700 <MrZackMorris>  https://t.co/6Cvir2b45v\n",
      "1441146707991957506 2021-09-23 14:05:25 -0700 <MrZackMorris> @wereboystocks App Store and play store\n",
      "1441146199252242435 2021-09-23 14:03:23 -0700 <MrZackMorris> Believe $DATS  $30++ DL the app and try it for yourself  https://t.co/VyoQgByJt5\n",
      "1441137793875382278 2021-09-23 13:29:59 -0700 <MrZackMorris> @DipDeity @LadeBackk NO!\n",
      "1441135984872202242 2021-09-23 13:22:48 -0700 <MrZackMorris> @KindTruth2 I posted about it today\n",
      "1441135751102566408 2021-09-23 13:21:52 -0700 <MrZackMorris>  https://t.co/4DCywsoO7n\n",
      "1441135282808442889 2021-09-23 13:20:01 -0700 <MrZackMorris> Only if you held\n",
      "1441135035357220873 2021-09-23 13:19:02 -0700 <MrZackMorris> @DannyMichelsen No\n",
      "1441133633386033152 2021-09-23 13:13:27 -0700 <MrZackMorris> @UPhoneUPR $3\n",
      "1441133377160105984 2021-09-23 13:12:26 -0700 <MrZackMorris>  https://t.co/r9mLlntSVo\n",
      "1441132381268701191 2021-09-23 13:08:29 -0700 <MrZackMorris>  https://t.co/gxQ6fGEhyA\n",
      "1441127032608362498 2021-09-23 12:47:14 -0700 <MrZackMorris> $CEI Give is $2+ after hours. Let’s beat up these shorts  https://t.co/kG0lQEV25r\n",
      "1441113011666653191 2021-09-23 11:51:31 -0700 <MrZackMorris> $DATS I want $30+ with all the upcoming catalysts.  https://t.co/Q0pXFhWGrp\n",
      "1441112628391075842 2021-09-23 11:49:59 -0700 <MrZackMorris> @luisof24 Wait for the next one\n",
      "1441112076986978319 2021-09-23 11:47:48 -0700 <MrZackMorris> Smell em  https://t.co/91lswVnjVg\n",
      "1441111323337650180 2021-09-23 11:44:48 -0700 <MrZackMorris>  https://t.co/riTkJwD3Ll\n",
      "1441101548373745670 2021-09-23 11:05:58 -0700 <MrZackMorris>  https://t.co/HNonRuxzXj\n",
      "1441097198255501324 2021-09-23 10:48:41 -0700 <MrZackMorris> Bitch we started at .50\n"
     ]
    },
    {
     "name": "stdout",
     "output_type": "stream",
     "text": [
      "1441096707345825798 2021-09-23 10:46:43 -0700 <MrZackMorris> $CEI $3 then $5 and then we’ll talk about the next target.  https://t.co/1lP1AYfFcA\n",
      "1441095297401192458 2021-09-23 10:41:07 -0700 <MrZackMorris>  https://t.co/HSYvi4L9Y5\n",
      "1441093878396841985 2021-09-23 10:35:29 -0700 <MrZackMorris> @Zeno490BC It did go to $15 from $10.\n",
      "1441093453899649027 2021-09-23 10:33:48 -0700 <MrZackMorris> @laukik1 I’m all free baby\n",
      "1441091942654234625 2021-09-23 10:27:47 -0700 <MrZackMorris> @AfelsFun @tdizz9 Waiting on them\n",
      "1441090358503374854 2021-09-23 10:21:30 -0700 <MrZackMorris> @QAnonomyus IT is a fact baby.\n",
      "1441090173719101450 2021-09-23 10:20:46 -0700 <MrZackMorris> @MAKIN_MUZIK @ssssraz Only getting better\n",
      "1441089562709688333 2021-09-23 10:18:20 -0700 <MrZackMorris> @ssssraz Yes I believe it’s going higher. The app is very promising and getting lots of attention\n",
      "1441088748016394243 2021-09-23 10:15:06 -0700 <MrZackMorris> $DATS float is much lower, too\n",
      "1441078340119523345 2021-09-23 09:33:44 -0700 <MrZackMorris> @BeginnerInvest4 MrZackMorris\n",
      "1441076841289236483 2021-09-23 09:27:47 -0700 <MrZackMorris> I’ll be switching from gmail\n",
      "1441075621107482624 2021-09-23 09:22:56 -0700 <MrZackMorris> @Mr_Derivatives I feel like they are doing it to me on purpose\n",
      "1441075419407597568 2021-09-23 09:22:08 -0700 <MrZackMorris>  https://t.co/y1JGZs7PiJ\n",
      "1441065884165058565 2021-09-23 08:44:15 -0700 <MrZackMorris> @picaboostunna @LadeBackk Yep\n",
      "1441065749855014915 2021-09-23 08:43:43 -0700 <MrZackMorris> @JimmyRayPowers @LadeBackk I might just get the Hennessey mammoth 1000\n",
      "1441063079480070147 2021-09-23 08:33:06 -0700 <MrZackMorris>  https://t.co/k1TLITmGt5\n",
      "1441062177092345856 2021-09-23 08:29:31 -0700 <MrZackMorris> @MTradess Same\n",
      "1441062061459509253 2021-09-23 08:29:03 -0700 <MrZackMorris> @LadeBackk It’s the 🦖  https://t.co/jMzhguDqBa\n",
      "1441061267767169028 2021-09-23 08:25:54 -0700 <MrZackMorris>  https://t.co/pbdu151rYv\n",
      "1441054525520027649 2021-09-23 07:59:07 -0700 <MrZackMorris> $WISH Great entry here for your Long term. They are still undervalued\n",
      "1441054177745149958 2021-09-23 07:57:44 -0700 <MrZackMorris> $CEI Over $2 soon. No brainer\n",
      "1441053680514617347 2021-09-23 07:55:45 -0700 <MrZackMorris> $DATS I asked them about discord like features and here’s the response I got.  https://t.co/impLlHhZfq\n",
      "1441053121577324546 2021-09-23 07:53:32 -0700 <MrZackMorris> @Clubber59840027 They are improving it\n",
      "1441051347785297920 2021-09-23 07:46:29 -0700 <MrZackMorris> @Koibiito_ I think they’ll get bought out. FB bought whats up for 19 billion\n",
      "1441051056130052100 2021-09-23 07:45:19 -0700 <MrZackMorris> @stevesfreshgear MrZackMorris\n",
      "1441051019337768962 2021-09-23 07:45:11 -0700 <MrZackMorris> December including financial transactions $DATS  https://t.co/cFpt5jhGVS\n",
      "1441050365114286080 2021-09-23 07:42:35 -0700 <MrZackMorris> $DATS Try it out. Game changer  https://t.co/6Cvir1TsGV\n",
      "1441022541447970816 2021-09-23 05:52:01 -0700 <MrZackMorris> @tripwiggins No it’s good\n",
      "1441021932930052096 2021-09-23 05:49:36 -0700 <MrZackMorris> @MTradess @SmallGains1111 @making_sales Yea those were big chat rooms Day trading it. The dip always gets bought up\n",
      "1441020927945453571 2021-09-23 05:45:36 -0700 <MrZackMorris> Happy birthday @olegnatnasgerg !!\n",
      "1441019835350138882 2021-09-23 05:41:16 -0700 <MrZackMorris> @LadeBackk We’re going to be rich!!\n",
      "1441018613008420866 2021-09-23 05:36:24 -0700 <MrZackMorris> @BeginnerInvest4 You’re gonna make Nate jokes now\n",
      "1441017930746109954 2021-09-23 05:33:42 -0700 <MrZackMorris> @thedonalddump87  https://t.co/0cWEwcwxCt\n",
      "1441017565497659393 2021-09-23 05:32:15 -0700 <MrZackMorris> @GiveBackGamer Old school stfu\n",
      "1441016813400334337 2021-09-23 05:29:15 -0700 <MrZackMorris> Good morning! Let’s grow!  https://t.co/ERagCeOMGA\n",
      "1441015138014871552 2021-09-23 05:22:36 -0700 <MrZackMorris> $CEI We will destroy the shorts\n",
      "1441014726654365697 2021-09-23 05:20:58 -0700 <MrZackMorris> @TraderKen71 I’m in TEXAS dumbass\n",
      "1441012703141715969 2021-09-23 05:12:55 -0700 <MrZackMorris> @making_sales Nah. This is a winner. Quiet period just ended, lots of catalyst on the way, low float, and the app is awesome.\n",
      "1441006095707873281 2021-09-23 04:46:40 -0700 <MrZackMorris> @DomDayTrades Narc\n",
      "1440811319880347650 2021-09-22 15:52:42 -0700 <MrZackMorris>  https://t.co/asAERqDLX1\n",
      "1440805577261649927 2021-09-22 15:29:53 -0700 <MrZackMorris> Free sandwiches on this guy!\n",
      "1440804738816102409 2021-09-22 15:26:33 -0700 <MrZackMorris> @EthanR_92 In the kitchen where she belongs\n",
      "1440803684724535297 2021-09-22 15:22:21 -0700 <MrZackMorris>  https://t.co/5ZMFdHuxXo\n",
      "1440799122475286531 2021-09-22 15:04:14 -0700 <MrZackMorris> This is how you CEO\n",
      "1440793843243257869 2021-09-22 14:43:15 -0700 <MrZackMorris>  https://t.co/arEXjK21TA\n",
      "1440788924100530185 2021-09-22 14:23:42 -0700 <MrZackMorris> @julianfreedom35 🙏🏻❤️😘\n",
      "1440783912922337281 2021-09-22 14:03:47 -0700 <MrZackMorris> @julianfreedom35 $5+\n",
      "1440783197378211854 2021-09-22 14:00:57 -0700 <MrZackMorris> $CEI\n",
      "1440774856593735692 2021-09-22 13:27:48 -0700 <MrZackMorris> @SteveUrkelDude They are spoiled\n",
      "1440762866936680450 2021-09-22 12:40:10 -0700 <MrZackMorris> @x0pium It could but let’s get to $5 first\n",
      "1440762546978385927 2021-09-22 12:38:53 -0700 <MrZackMorris> $CEI $3-5+. Stop tagging and sell if you don’t feel comfortable.  https://t.co/P93Ts7AvdN\n",
      "1440762309958242309 2021-09-22 12:37:57 -0700 <MrZackMorris> @here2clear Why the f would I?\n",
      "1440760186746982400 2021-09-22 12:29:31 -0700 <MrZackMorris> @darrenrosslitt1 Great thanks for asking\n",
      "1440760123937284096 2021-09-22 12:29:16 -0700 <MrZackMorris> @nomorenoise3 We’ll get there\n",
      "1440757344523079690 2021-09-22 12:18:13 -0700 <MrZackMorris> @tehbillyy @timmlopezjr @LadeBackk We’re holding full. It’s early and pull backs are normal.\n",
      "1440756798332440581 2021-09-22 12:16:03 -0700 <MrZackMorris> @timmlopezjr @tehbillyy @LadeBackk Would you all like to be blocked?\n",
      "1440742991509950470 2021-09-22 11:21:11 -0700 <MrZackMorris> @PopeBeetTrading Have you downloaded the app? It’s the tits\n",
      "1440738215422431234 2021-09-22 11:02:12 -0700 <MrZackMorris> @CricketFlies Lol it’s going to go much higher than  that\n",
      "1440737672431996930 2021-09-22 11:00:03 -0700 <MrZackMorris> @EbitdaErnesto This ain’t Miami bro\n",
      "1440735852364140547 2021-09-22 10:52:49 -0700 <MrZackMorris> @PopeBeetTrading Maybe $30+\n",
      "1440734834452688901 2021-09-22 10:48:46 -0700 <MrZackMorris> @Hugh_Henne Mi Casa\n",
      "1440734642923970567 2021-09-22 10:48:01 -0700 <MrZackMorris> I’m about $DATS life  https://t.co/aICUizfFGO\n",
      "1440727903675637765 2021-09-22 10:21:14 -0700 <MrZackMorris> @LadeBackk There’s a few faces on here like that\n",
      "1440726675524784129 2021-09-22 10:16:21 -0700 <MrZackMorris> @FRANKJHERON DATS\n",
      "1440726464362549263 2021-09-22 10:15:31 -0700 <MrZackMorris> Maybe baby\n",
      "1440725936203198469 2021-09-22 10:13:25 -0700 <MrZackMorris>  https://t.co/ODlTDK3TuY\n",
      "1440724084950634512 2021-09-22 10:06:03 -0700 <MrZackMorris> @SethLongland @LadeBackk Flats\n",
      "1440723731857379330 2021-09-22 10:04:39 -0700 <MrZackMorris> @LadeBackk Dam We’re like bffs\n",
      "1440723067534069762 2021-09-22 10:02:01 -0700 <MrZackMorris> $CEI Sup @LadeBackk  https://t.co/3J1SRAAo8D\n",
      "1440719021737869318 2021-09-22 09:45:56 -0700 <MrZackMorris> @ButtersTrades @LadeBackk @MrMikeInvesting @jbsteelers36 @Ultra_Calls @realRogerRhodes Exactly\n",
      "1440706175146725381 2021-09-22 08:54:53 -0700 <MrZackMorris>  https://t.co/b0hyGzdM82\n",
      "1440704603549433858 2021-09-22 08:48:39 -0700 <MrZackMorris> @GeZee It’s everything\n",
      "1440704076753162240 2021-09-22 08:46:33 -0700 <MrZackMorris> @CashlessActs No got stopped out of TMC\n",
      "1440693381064056840 2021-09-22 08:04:03 -0700 <MrZackMorris> @WizardStonks We still have REAL NEWS on the way\n",
      "1440691938781384710 2021-09-22 07:58:19 -0700 <MrZackMorris> @LadeBackk $CEI\n",
      "1440677423515725844 2021-09-22 07:00:38 -0700 <MrZackMorris> $CEI $3-5 We’re still early.  https://t.co/LwMGeaYXXM\n",
      "1440661841122783243 2021-09-22 05:58:43 -0700 <MrZackMorris> @manpreetkailon We got more news on the way.\n",
      "1440465126985920516 2021-09-21 16:57:03 -0700 <MrZackMorris> @LadeBackk Yea you pussstaches\n",
      "1440445517851283456 2021-09-21 15:39:08 -0700 <MrZackMorris> @WillyMeatsauce1 Congratulations man! You made it! 5 mill will come quick. Make sure you go all in on everything.\n",
      "1440398388504133632 2021-09-21 12:31:51 -0700 <MrZackMorris> @MrPatel6969 They have no debt and cash on hand\n"
     ]
    },
    {
     "name": "stdout",
     "output_type": "stream",
     "text": [
      "1440394199682088967 2021-09-21 12:15:13 -0700 <MrZackMorris> @PennyStalker01 @Momentum_Plays 🪐\n",
      "1440361147744489476 2021-09-21 10:03:52 -0700 <MrZackMorris>  https://t.co/zSbzrS5ub8\n",
      "1440358494603939853 2021-09-21 09:53:20 -0700 <MrZackMorris> $CEI HAHAHAHAHAHAHA  https://t.co/srgsIxinUC\n",
      "1440357160039288838 2021-09-21 09:48:02 -0700 <MrZackMorris> $CEI Order your Speedos because we’re going to Miami.\n",
      "1440353527423922180 2021-09-21 09:33:36 -0700 <MrZackMorris> @LadeBackk  https://t.co/aAH0Q0Uvv0\n",
      "1440323351461826572 2021-09-21 07:33:41 -0700 <MrZackMorris> @Trader_Joe_LPP  https://t.co/rtfa9Dusn9\n",
      "1440323287301570573 2021-09-21 07:33:26 -0700 <MrZackMorris> @HowieLongggg It’s hilarious\n",
      "1440316704286928911 2021-09-21 07:07:16 -0700 <MrZackMorris> @persaudrealtor Good they’re saving money\n",
      "1440315523540000776 2021-09-21 07:02:35 -0700 <MrZackMorris> @SafemoonMula @PJ_Matlock I like it\n",
      "1440315137529769996 2021-09-21 07:01:03 -0700 <MrZackMorris> @Brockhenniss @BigMirfUnit Not gonna lie. That’s happened to me\n",
      "1440313724678463498 2021-09-21 06:55:26 -0700 <MrZackMorris> @DanielCorbin315 That’s a tough one\n",
      "1440313646484123660 2021-09-21 06:55:07 -0700 <MrZackMorris>  https://t.co/xUTBgx69pm\n",
      "1440313319651381260 2021-09-21 06:53:49 -0700 <MrZackMorris> Awww wall ate\n",
      "1440312671081938947 2021-09-21 06:51:15 -0700 <MrZackMorris> @Dejon_Buffett ❤️\n",
      "1440312502324064270 2021-09-21 06:50:34 -0700 <MrZackMorris> @PicklezTommy Yep like he said on the call\n",
      "1440308399468531713 2021-09-21 06:34:16 -0700 <MrZackMorris>  https://t.co/i6fDvbXolZ\n",
      "1440303714158272526 2021-09-21 06:15:39 -0700 <MrZackMorris> Happy birthday @MrKennethPowers !!!!!  https://t.co/utnqGTdZoi\n",
      "1440303120920170516 2021-09-21 06:13:18 -0700 <MrZackMorris> @mastermindmurda Giving it a little more time.\n",
      "1440295619835285506 2021-09-21 05:43:29 -0700 <MrZackMorris>  https://t.co/LNwWekeV0i\n",
      "1440291504719745025 2021-09-21 05:27:08 -0700 <MrZackMorris> @jack_mf_smith What about Pussstache?\n",
      "1440288753390534657 2021-09-21 05:16:12 -0700 <MrZackMorris> @bijin_chandr Upright citizens?\n",
      "1440288381905211393 2021-09-21 05:14:44 -0700 <MrZackMorris> Awwww we’re back in the $1.60s not under $1 like the Ass Clowns said.\n",
      "1440271059928768516 2021-09-21 04:05:54 -0700 <MrZackMorris> @Dbpinho Just waiting it’s undervalued\n",
      "1440269543310454785 2021-09-21 03:59:52 -0700 <MrZackMorris> @Dbpinho It’s at $6.16\n",
      "1440264396958101509 2021-09-21 03:39:25 -0700 <MrZackMorris> @kerrykelly76 @Damientski On a big dip only.\n",
      "1440254446231908352 2021-09-21 02:59:53 -0700 <MrZackMorris> @yomismo74065343 Don’t change anything for me\n",
      "1440066568361185292 2021-09-20 14:33:19 -0700 <MrZackMorris> @ohheytommy As you tell your 84k followers.\n",
      "1440064932007931907 2021-09-20 14:26:49 -0700 <MrZackMorris> @Daechungpress3 Thank you\n",
      "1440063939774009345 2021-09-20 14:22:52 -0700 <MrZackMorris> @MTradess Sweet! I’ll be like Puffy in some of your songs\n",
      "1440063531085221893 2021-09-20 14:21:15 -0700 <MrZackMorris> @MTradess Thanks bro. I’ll always watch out for my loyal people.\n",
      "1440062898215153665 2021-09-20 14:18:44 -0700 <MrZackMorris> @chartnewb @uravgjoe33 You learned their personalities\n",
      "1440061135412027401 2021-09-20 14:11:44 -0700 <MrZackMorris> @burshy85 Yep I love WISH\n",
      "1440060946269958150 2021-09-20 14:10:59 -0700 <MrZackMorris> @chartnewb Great job man!\n",
      "1440060825515876353 2021-09-20 14:10:30 -0700 <MrZackMorris> @SteeveUlrick @Lance44648356 CLOV hit $28 and I’m still waiting on WISH\n",
      "1440060359906234380 2021-09-20 14:08:39 -0700 <MrZackMorris> @DonnieDoStonks We’ll crush them\n",
      "1440056244069228544 2021-09-20 13:52:18 -0700 <MrZackMorris> @BrianA14585377 @realRogerRhodes @LadeBackk @aht_rob As long as he doesn’t button his shirt down then we’re good.\n",
      "1440056084576624648 2021-09-20 13:51:40 -0700 <MrZackMorris> @realRogerRhodes @LadeBackk We’re early\n",
      "1440055520589586432 2021-09-20 13:49:25 -0700 <MrZackMorris> @DrMagoops I’ll take $192\n",
      "1440054784296243203 2021-09-20 13:46:30 -0700 <MrZackMorris> @DrMagoops Great video bro\n",
      "1440046481642115072 2021-09-20 13:13:30 -0700 <MrZackMorris> @LadeBackk  https://t.co/xYlvhqqNLY\n",
      "1440045774847438857 2021-09-20 13:10:42 -0700 <MrZackMorris> @StevenB74086813 Not yet\n",
      "1440045268620115975 2021-09-20 13:08:41 -0700 <MrZackMorris> $CEI For such a shit day in the market I am not mad about this close.  We’re going to have some red days and they are part of the process. Stocks don’t go straight up.  https://t.co/leLhs8mVfv\n",
      "1440042353704661007 2021-09-20 12:57:06 -0700 <MrZackMorris> @Cals_US 20 to 30\n",
      "1440005239457865729 2021-09-20 10:29:37 -0700 <MrZackMorris> @shiektal @LadeBackk Try extra crispy\n",
      "1439992767061581827 2021-09-20 09:40:04 -0700 <MrZackMorris> @ReaLAntGee With the rest of the market\n",
      "1439991530194968580 2021-09-20 09:35:09 -0700 <MrZackMorris> @HuangChung18 @Jgrah3 @BettingBruiser I hardly post bud but thanks.\n",
      "1439977577452539910 2021-09-20 08:39:42 -0700 <MrZackMorris> @AnitaLaquita The market took it down today\n",
      "1439976671034200068 2021-09-20 08:36:06 -0700 <MrZackMorris> @ElectricConnec Those jerks. Your stoploss wasn’t bad. You gave yourself plenty of wiggle room.\n",
      "1439969781944303620 2021-09-20 08:08:44 -0700 <MrZackMorris>  https://t.co/kLZyFiE00D\n",
      "1439969364330131464 2021-09-20 08:07:04 -0700 <MrZackMorris> @XDswinger $DATS exciting\n",
      "1439968861718208517 2021-09-20 08:05:04 -0700 <MrZackMorris> @GREENCANDLES5  https://t.co/bMp61RAyqa\n",
      "1439961561968295957 2021-09-20 07:36:04 -0700 <MrZackMorris> @Young_Wahab @cunningfoxes 👍🏼\n",
      "1439960937495138305 2021-09-20 07:33:35 -0700 <MrZackMorris> @cash_nfl_dfs TD\n",
      "1439958233796562948 2021-09-20 07:22:50 -0700 <MrZackMorris> @BettingBruiser Awwww  https://t.co/vbf0Ku8PlK\n",
      "1439958050140528644 2021-09-20 07:22:06 -0700 <MrZackMorris> @BettingBruiser Bought last week bud thanks. Scroll more through the chat\n",
      "1439955471511719941 2021-09-20 07:11:52 -0700 <MrZackMorris> @cash_nfl_dfs Reface\n",
      "1439955014303326214 2021-09-20 07:10:03 -0700 <MrZackMorris>  https://t.co/gEfyqtwiDm\n",
      "1439953028585594884 2021-09-20 07:02:09 -0700 <MrZackMorris> @casey03308584 Watch for support to break\n",
      "1439952434584072192 2021-09-20 06:59:48 -0700 <MrZackMorris> @chrissd1231 Maybe $20 if it catches +\n",
      "1439952077216796674 2021-09-20 06:58:22 -0700 <MrZackMorris> The nasty dip on CEI this morning is the kind of real dip I look for. Those usually trap shorts and bounce the fastest.\n",
      "1439951717655883776 2021-09-20 06:56:57 -0700 <MrZackMorris>  https://t.co/btYklEp6V3\n",
      "1439951297332060166 2021-09-20 06:55:16 -0700 <MrZackMorris> @investorzayn Not really. All my swings dropped this am and bounced right back\n",
      "1439950887925993473 2021-09-20 06:53:39 -0700 <MrZackMorris> @Damientski I’m holding all my $DATS\n",
      "1439950828513775616 2021-09-20 06:53:25 -0700 <MrZackMorris> @investorzayn Went 9 to $60+. Yea the second time around didn’t work\n",
      "1439950531674492930 2021-09-20 06:52:14 -0700 <MrZackMorris> PM I was down $450k now I’m up 50k. It’s very important to have confidence and know what you own. It all comes with time and experience.\n",
      "1439945715774627841 2021-09-20 06:33:06 -0700 <MrZackMorris> $CEI Morning dips for my crips\n",
      "1439940960553684994 2021-09-20 06:14:12 -0700 <MrZackMorris> @DEUSVULTREV68 You’re good\n",
      "1439936983686594561 2021-09-20 05:58:24 -0700 <MrZackMorris> @blakestonks Scalp the large cap bounces at open\n",
      "1439930815182426116 2021-09-20 05:33:53 -0700 <MrZackMorris> @MisterNarwhal @SItrade23 Yea the market is making everything dip. We’re good and still early on the theme.\n",
      "1439774082795548673 2021-09-19 19:11:05 -0700 <MrZackMorris> @toddfathr @jack_mf_smith @Trader_Joe_LPP @SmallGains1111 Dam it. That’s a really good point\n",
      "1439770535127306241 2021-09-19 18:56:59 -0700 <MrZackMorris> @jack_mf_smith @Trader_Joe_LPP @SmallGains1111 I can’t wait to taste those tears\n",
      "1439767879768027137 2021-09-19 18:46:26 -0700 <MrZackMorris> @jukkathefin @Trader_Joe_LPP @jack_mf_smith Atleast I got hair on my head bud\n",
      "1439763319892680710 2021-09-19 18:28:19 -0700 <MrZackMorris> @jack_mf_smith @HowieLongggg @wereboystocks  https://t.co/Gpznz7kN1A\n",
      "1439761898598289408 2021-09-19 18:22:40 -0700 <MrZackMorris> @jack_mf_smith @HowieLongggg @wereboystocks Yes\n",
      "1439761804700303367 2021-09-19 18:22:18 -0700 <MrZackMorris> @StockyPlatano @warrenpuffettt Nope. Lock up period\n",
      "1439761668184084481 2021-09-19 18:21:45 -0700 <MrZackMorris> @HowieLongggg @wereboystocks @jack_mf_smith I’ll wreck him\n",
      "1439761089072349186 2021-09-19 18:19:27 -0700 <MrZackMorris> @wereboystocks I really get excited when I see you guys post fat gains. That’s worth more to me than my own pnl. My goal is for all of us to be free and enjoy this little time we have on earth.\n",
      "1439752233571299329 2021-09-19 17:44:16 -0700 <MrZackMorris> @BLKWolfSurvival Thanks baby\n",
      "1439752061059571716 2021-09-19 17:43:35 -0700 <MrZackMorris> @warrenpuffettt $DATS True\n",
      "1439751022726062081 2021-09-19 17:39:27 -0700 <MrZackMorris> @notoriousalerts 😎\n"
     ]
    },
    {
     "name": "stdout",
     "output_type": "stream",
     "text": [
      "1439736487264784388 2021-09-19 16:41:42 -0700 <MrZackMorris> Happy birthday @FreddieDredd !!!\n",
      "1439674165229981704 2021-09-19 12:34:03 -0700 <MrZackMorris> @LadeBackk They better\n",
      "1439658228661506051 2021-09-19 11:30:43 -0700 <MrZackMorris> @B_M_G_13 Maybe baby\n",
      "1439656500562116611 2021-09-19 11:23:51 -0700 <MrZackMorris>  https://t.co/kQi5u0DOEW\n",
      "1439645818231926784 2021-09-19 10:41:25 -0700 <MrZackMorris> @MrCharlieMorris Are you fucking gambling? I leave for 1 day\n",
      "1439645604767014921 2021-09-19 10:40:34 -0700 <MrZackMorris> @OTC_Hussle @YoBoyKenji Anytime you curly headed f\n",
      "1439638758836609031 2021-09-19 10:13:21 -0700 <MrZackMorris> @OTC_Hussle @DipDeity We’re rich bitch\n",
      "1439636979491250178 2021-09-19 10:06:17 -0700 <MrZackMorris> @HowieLongggg @paolocannatella Fuck rocks\n",
      "1439606876119998473 2021-09-19 08:06:40 -0700 <MrZackMorris> @XFactorm @BrownMoneyDoll1 Ty man\n",
      "1439602181372579845 2021-09-19 07:48:01 -0700 <MrZackMorris> @InvestPro18 @danielrolls2 Negative\n",
      "1439601756846055426 2021-09-19 07:46:19 -0700 <MrZackMorris> @InvestPro18 @danielrolls2 Yea it’s going to $10\n",
      "1439601610867548160 2021-09-19 07:45:45 -0700 <MrZackMorris> @BrownMoneyDoll1  https://t.co/QtT1zXVLqz\n",
      "1439601455581827076 2021-09-19 07:45:08 -0700 <MrZackMorris> @damiiiannnnnn @Mattwaldroppp Lol\n",
      "1439599674483150853 2021-09-19 07:38:03 -0700 <MrZackMorris> @Mattwaldroppp Lol\n",
      "1439453478817083397 2021-09-18 21:57:07 -0700 <MrZackMorris> $CEI I got $5 on it\n",
      "1439444332512174081 2021-09-18 21:20:47 -0700 <MrZackMorris> Meet a homie ⁦@paolocannatella⁩  https://t.co/3vYHUOXgIH\n",
      "1439440222392098823 2021-09-18 21:04:27 -0700 <MrZackMorris>  https://t.co/vvde7cfhAZ\n",
      "1439433499992285186 2021-09-18 20:37:44 -0700 <MrZackMorris> @DanaAshforth @DipDeity Merci\n",
      "1439431862120763395 2021-09-18 20:31:13 -0700 <MrZackMorris> @DipDeity These terrible pics of me\n",
      "1439415618319622145 2021-09-18 19:26:41 -0700 <MrZackMorris> @shervin_dr @DipDeity Man f KBSF. What do you think of my outfit?\n",
      "1439413455073730560 2021-09-18 19:18:05 -0700 <MrZackMorris> @DipDeity I didn’t bring extra clothes and they took me shopping. I feel like a tool\n",
      "1439397274266836993 2021-09-18 18:13:47 -0700 <MrZackMorris> @patrickrgn Yes\n",
      "1439380685429645312 2021-09-18 17:07:52 -0700 <MrZackMorris> @Stu_Trades You put out?\n",
      "1439379327527882762 2021-09-18 17:02:28 -0700 <MrZackMorris> Broing it up  https://t.co/RWQ27Fv5id\n",
      "1439361466361171986 2021-09-18 15:51:30 -0700 <MrZackMorris> @unusual_whales Love you whale\n",
      "1439353968203866119 2021-09-18 15:21:42 -0700 <MrZackMorris> @robinho_wijk @DipDeity Done\n",
      "1439352273369501702 2021-09-18 15:14:58 -0700 <MrZackMorris> @LadeBackk @realCarlSPACler @DipDeity And dudes\n",
      "1439351672569057282 2021-09-18 15:12:35 -0700 <MrZackMorris> @LadeBackk @DipDeity Can’t wait our sausage party\n",
      "1439320526917341184 2021-09-18 13:08:49 -0700 <MrZackMorris> Thank you!! @drewtrades_  This is so badass!  https://t.co/Rut1U6tTud\n",
      "1439299142375952387 2021-09-18 11:43:51 -0700 <MrZackMorris> @DipDeity @drewtrades_ Be there soon sorry\n",
      "1439297097392660482 2021-09-18 11:35:43 -0700 <MrZackMorris> We gotta fill that gap\n",
      "1439275443966914570 2021-09-18 10:09:40 -0700 <MrZackMorris>  https://t.co/Kpe0mEbwmj\n",
      "1439273633373896710 2021-09-18 10:02:29 -0700 <MrZackMorris> @jbsteelers36 And we’re already in\n",
      "1439271282856636421 2021-09-18 09:53:08 -0700 <MrZackMorris> @Vianca_Reeves @Zachmataya01 @masavenya I’m 6’4 bro\n",
      "1439264481717141507 2021-09-18 09:26:07 -0700 <MrZackMorris> @yatesinvesting Awww thanks bud! I’ll be right over!\n",
      "1439255742247325697 2021-09-18 08:51:23 -0700 <MrZackMorris> @DatKidNameDevin All part of the plan\n",
      "1439254476154707974 2021-09-18 08:46:21 -0700 <MrZackMorris> @SpacTraderinTra @NoContextHumans Lol they would all be shot in the head\n",
      "1439253255289245702 2021-09-18 08:41:30 -0700 <MrZackMorris> See you at noon bud @DipDeity\n",
      "1439252081832079363 2021-09-18 08:36:50 -0700 <MrZackMorris> @girius33 Yes\n",
      "1439238159007719426 2021-09-18 07:41:31 -0700 <MrZackMorris> @JasonVtrades Let’s go!\n",
      "1439237842996244485 2021-09-18 07:40:16 -0700 <MrZackMorris> @jack_mf_smith @warrenpuffettt @HowieLongggg @Stoic_Tradess @Mr_Robot_Tradez @MillerStonks @DBookTrading @whoopasstrading @letbrucehitit @PedeyTrades I’m sure I was supposed to be first but I know how jealous @jack_mf_smith gets\n",
      "1439227966387589120 2021-09-18 07:01:01 -0700 <MrZackMorris> @WolfOfWeedST Yeaaaa boyyyyyyyy\n",
      "1439087329495420930 2021-09-17 21:42:10 -0700 <MrZackMorris> @HowieLongggg @jack_mf_smith @Stoic_Tradess @warrenpuffettt @Mr_Robot_Tradez @MillerStonks @DBookTrading @whoopasstrading @letbrucehitit @PedeyTrades Save the best for last.\n",
      "1439083811451641857 2021-09-17 21:28:12 -0700 <MrZackMorris> @LadeBackk Congrats bro!\n",
      "1439083607415562241 2021-09-17 21:27:23 -0700 <MrZackMorris> @warrenpuffettt Me too\n",
      "1439081986455482382 2021-09-17 21:20:57 -0700 <MrZackMorris> Sweet dreams.\n",
      "1439080688121155584 2021-09-17 21:15:47 -0700 <MrZackMorris>  https://t.co/qvxJzP3aVp\n",
      "1439079893283786756 2021-09-17 21:12:38 -0700 <MrZackMorris>  https://t.co/OpiiigHXc3\n",
      "1439078938341433348 2021-09-17 21:08:50 -0700 <MrZackMorris>  https://t.co/SpWagN0xPf\n",
      "1439078289688170502 2021-09-17 21:06:15 -0700 <MrZackMorris> @warrenpuffettt Clowns\n",
      "1439078264312672260 2021-09-17 21:06:09 -0700 <MrZackMorris> @warrenpuffettt  https://t.co/Jnlpj4ni0Y\n",
      "1439077777832136708 2021-09-17 21:04:13 -0700 <MrZackMorris>  https://t.co/qdgQNyLGhs\n",
      "1439075388198641664 2021-09-17 20:54:43 -0700 <MrZackMorris>  https://t.co/n0RM9epvLZ\n",
      "1439074481084014596 2021-09-17 20:51:07 -0700 <MrZackMorris> The show goes on\n",
      "1439073955223154690 2021-09-17 20:49:02 -0700 <MrZackMorris> One more because I’m getting complaints.\n",
      "1439072713956544515 2021-09-17 20:44:06 -0700 <MrZackMorris>  https://t.co/gxftW5xo9G\n",
      "1439070946736943104 2021-09-17 20:37:05 -0700 <MrZackMorris>  https://t.co/XWA3rWvlCF\n",
      "1439069395867901952 2021-09-17 20:30:55 -0700 <MrZackMorris>  https://t.co/sbxGkfFr9E\n",
      "1439069239109898241 2021-09-17 20:30:17 -0700 <MrZackMorris> @wereboystocks @HowieLongggg  https://t.co/a7pkImERQY\n",
      "1439068458008854531 2021-09-17 20:27:11 -0700 <MrZackMorris>  https://t.co/51qcahsZzX\n",
      "1439068346134241280 2021-09-17 20:26:44 -0700 <MrZackMorris> Sorry guys I can’t stop\n",
      "1439067822693486594 2021-09-17 20:24:40 -0700 <MrZackMorris> @D_Jacked Edibles\n",
      "1439067504542945280 2021-09-17 20:23:24 -0700 <MrZackMorris>  https://t.co/EbxCaekA9W\n",
      "1439066329844228103 2021-09-17 20:18:44 -0700 <MrZackMorris>  https://t.co/lThxV7ZMtm\n",
      "1439064910156161029 2021-09-17 20:13:05 -0700 <MrZackMorris>  https://t.co/tuh04cO7UE\n",
      "1439064155294666753 2021-09-17 20:10:05 -0700 <MrZackMorris>  https://t.co/QWS0xzBFVf\n",
      "1439063474194243591 2021-09-17 20:07:23 -0700 <MrZackMorris>  https://t.co/9xzniNFTv8\n",
      "1439062233686986757 2021-09-17 20:02:27 -0700 <MrZackMorris>  https://t.co/1EAnDIPZXT\n",
      "1439061312525512705 2021-09-17 19:58:48 -0700 <MrZackMorris> @JorgeChargersfu No\n",
      "1439059437025730562 2021-09-17 19:51:20 -0700 <MrZackMorris> @wereboystocks Let’s get weird bro\n",
      "1439059350086160385 2021-09-17 19:51:00 -0700 <MrZackMorris>  https://t.co/KtW5JCtVI6\n",
      "1439057918377271297 2021-09-17 19:45:18 -0700 <MrZackMorris>  https://t.co/K55aRSd1sT\n",
      "1439056130223792128 2021-09-17 19:38:12 -0700 <MrZackMorris>  https://t.co/15ezqmzLy6\n",
      "1439053666921684993 2021-09-17 19:28:25 -0700 <MrZackMorris> @JeremyI36267426 AC is\n",
      "1439053603700940801 2021-09-17 19:28:10 -0700 <MrZackMorris>  https://t.co/qxH3EZajJI\n",
      "1439052402058047493 2021-09-17 19:23:23 -0700 <MrZackMorris>  https://t.co/Lc5pxoHUaB\n",
      "1439051078411198468 2021-09-17 19:18:08 -0700 <MrZackMorris>  https://t.co/ioocOCvmG0\n",
      "1439049857109483520 2021-09-17 19:13:16 -0700 <MrZackMorris>  https://t.co/a3rx80YV5A\n",
      "1439046816331403264 2021-09-17 19:01:11 -0700 <MrZackMorris>  https://t.co/bLq7S3CRcI\n",
      "1439040184444665860 2021-09-17 18:34:50 -0700 <MrZackMorris>  https://t.co/GmSK2LKcnH\n",
      "[!] No more data! Scraping will stop now.\n",
      "found 0 deleted tweets in this search.\n"
     ]
    }
   ],
   "source": [
    "# Configure\n",
    "c = twint.Config()\n",
    "\n",
    "c.Search = \"\\$\"\n",
    "c.Output = \"tweets.csv\"\n",
    "c.Store_csv = True\n",
    "c.Limit = 2000\n",
    "c.Pandas = True\n",
    "c.Pandas_clean = True\n",
    "c.Pandas_au = True \n",
    "\n",
    "#Run\n",
    "twint.run.Search(c)"
   ]
  },
  {
   "cell_type": "markdown",
   "id": "80fc1486",
   "metadata": {},
   "source": [
    "## Preprocessing data"
   ]
  },
  {
   "cell_type": "code",
   "execution_count": null,
   "id": "5f380702",
   "metadata": {},
   "outputs": [],
   "source": [
    "df = pd.read_csv('tweets.csv')\n",
    "df.drop_duplicates(inplace=True)\n",
    "df = df.reset_index(drop=True)\n",
    "xx = df.groupby(['date']).agg({'tweet':'count'})"
   ]
  },
  {
   "cell_type": "markdown",
   "id": "6eed0629",
   "metadata": {},
   "source": [
    "## Matplotlib graphs"
   ]
  },
  {
   "cell_type": "code",
   "execution_count": 60,
   "id": "a13ec6df",
   "metadata": {},
   "outputs": [
    {
     "data": {
      "image/png": "[encoded data removed]",
      "text/plain": [
       "<Figure size 1440x720 with 1 Axes>"
      ]
     },
     "metadata": {},
     "output_type": "display_data"
    }
   ],
   "source": [
    "plt.style.use('seaborn-darkgrid')\n",
    "plt.figure(figsize=(20,10))\n",
    "plt.plot(xx)\n",
    "plt.xticks(rotation=50, size=13)\n",
    "plt.yticks(rotation=50, size=13)\n",
    "plt.show()"
   ]
  },
  {
   "cell_type": "markdown",
   "id": "df78011e",
   "metadata": {},
   "source": [
    "## Plotly graphs"
   ]
  },
  {
   "cell_type": "code",
   "execution_count": 64,
   "id": "465ef234",
   "metadata": {},
   "outputs": [
    {
     "data": {
      "application/vnd.plotly.v1+json": {
       "config": {
        "plotlyServerURL": "https://plot.ly"
       },
       "data": [
        {
         "line": {
          "color": "#636EFA"
         },
         "mode": "lines",
         "type": "scatter",
         "x": [
          "2021-09-14",
          "2021-09-15",
          "2021-09-16",
          "2021-09-17",
          "2021-09-18",
          "2021-09-20",
          "2021-09-21",
          "2021-09-22",
          "2021-09-23",
          "2021-09-24",
          "2021-09-25",
          "2021-09-26",
          "2021-09-27",
          "2021-09-28",
          "2021-09-29",
          "2021-09-30",
          "2021-10-01"
         ],
         "y": [
          2,
          5,
          3,
          5,
          2,
          32,
          29,
          39,
          107,
          76,
          25,
          41,
          65,
          148,
          133,
          122,
          59
         ]
        }
       ],
       "layout": {
        "template": {
         "data": {
          "bar": [
           {
            "error_x": {
             "color": "#2a3f5f"
            },
            "error_y": {
             "color": "#2a3f5f"
            },
            "marker": {
             "line": {
              "color": "#E5ECF6",
              "width": 0.5
             },
             "pattern": {
              "fillmode": "overlay",
              "size": 10,
              "solidity": 0.2
             }
            },
            "type": "bar"
           }
          ],
          "barpolar": [
           {
            "marker": {
             "line": {
              "color": "#E5ECF6",
              "width": 0.5
             },
             "pattern": {
              "fillmode": "overlay",
              "size": 10,
              "solidity": 0.2
             }
            },
            "type": "barpolar"
           }
          ],
          "carpet": [
           {
            "aaxis": {
             "endlinecolor": "#2a3f5f",
             "gridcolor": "white",
             "linecolor": "white",
             "minorgridcolor": "white",
             "startlinecolor": "#2a3f5f"
            },
            "baxis": {
             "endlinecolor": "#2a3f5f",
             "gridcolor": "white",
             "linecolor": "white",
             "minorgridcolor": "white",
             "startlinecolor": "#2a3f5f"
            },
            "type": "carpet"
           }
          ],
          "choropleth": [
           {
            "colorbar": {
             "outlinewidth": 0,
             "ticks": ""
            },
            "type": "choropleth"
           }
          ],
          "contour": [
           {
            "colorbar": {
             "outlinewidth": 0,
             "ticks": ""
            },
            "colorscale": [
             [
              0,
              "#0d0887"
             ],
             [
              0.1111111111111111,
              "#46039f"
             ],
             [
              0.2222222222222222,
              "#7201a8"
             ],
             [
              0.3333333333333333,
              "#9c179e"
             ],
             [
              0.4444444444444444,
              "#bd3786"
             ],
             [
              0.5555555555555556,
              "#d8576b"
             ],
             [
              0.6666666666666666,
              "#ed7953"
             ],
             [
              0.7777777777777778,
              "#fb9f3a"
             ],
             [
              0.8888888888888888,
              "#fdca26"
             ],
             [
              1,
              "#f0f921"
             ]
            ],
            "type": "contour"
           }
          ],
          "contourcarpet": [
           {
            "colorbar": {
             "outlinewidth": 0,
             "ticks": ""
            },
            "type": "contourcarpet"
           }
          ],
          "heatmap": [
           {
            "colorbar": {
             "outlinewidth": 0,
             "ticks": ""
            },
            "colorscale": [
             [
              0,
              "#0d0887"
             ],
             [
              0.1111111111111111,
              "#46039f"
             ],
             [
              0.2222222222222222,
              "#7201a8"
             ],
             [
              0.3333333333333333,
              "#9c179e"
             ],
             [
              0.4444444444444444,
              "#bd3786"
             ],
             [
              0.5555555555555556,
              "#d8576b"
             ],
             [
              0.6666666666666666,
              "#ed7953"
             ],
             [
              0.7777777777777778,
              "#fb9f3a"
             ],
             [
              0.8888888888888888,
              "#fdca26"
             ],
             [
              1,
              "#f0f921"
             ]
            ],
            "type": "heatmap"
           }
          ],
          "heatmapgl": [
           {
            "colorbar": {
             "outlinewidth": 0,
             "ticks": ""
            },
            "colorscale": [
             [
              0,
              "#0d0887"
             ],
             [
              0.1111111111111111,
              "#46039f"
             ],
             [
              0.2222222222222222,
              "#7201a8"
             ],
             [
              0.3333333333333333,
              "#9c179e"
             ],
             [
              0.4444444444444444,
              "#bd3786"
             ],
             [
              0.5555555555555556,
              "#d8576b"
             ],
             [
              0.6666666666666666,
              "#ed7953"
             ],
             [
              0.7777777777777778,
              "#fb9f3a"
             ],
             [
              0.8888888888888888,
              "#fdca26"
             ],
             [
              1,
              "#f0f921"
             ]
            ],
            "type": "heatmapgl"
           }
          ],
          "histogram": [
           {
            "marker": {
             "pattern": {
              "fillmode": "overlay",
              "size": 10,
              "solidity": 0.2
             }
            },
            "type": "histogram"
           }
          ],
          "histogram2d": [
           {
            "colorbar": {
             "outlinewidth": 0,
             "ticks": ""
            },
            "colorscale": [
             [
              0,
              "#0d0887"
             ],
             [
              0.1111111111111111,
              "#46039f"
             ],
             [
              0.2222222222222222,
              "#7201a8"
             ],
             [
              0.3333333333333333,
              "#9c179e"
             ],
             [
              0.4444444444444444,
              "#bd3786"
             ],
             [
              0.5555555555555556,
              "#d8576b"
             ],
             [
              0.6666666666666666,
              "#ed7953"
             ],
             [
              0.7777777777777778,
              "#fb9f3a"
             ],
             [
              0.8888888888888888,
              "#fdca26"
             ],
             [
              1,
              "#f0f921"
             ]
            ],
            "type": "histogram2d"
           }
          ],
          "histogram2dcontour": [
           {
            "colorbar": {
             "outlinewidth": 0,
             "ticks": ""
            },
            "colorscale": [
             [
              0,
              "#0d0887"
             ],
             [
              0.1111111111111111,
              "#46039f"
             ],
             [
              0.2222222222222222,
              "#7201a8"
             ],
             [
              0.3333333333333333,
              "#9c179e"
             ],
             [
              0.4444444444444444,
              "#bd3786"
             ],
             [
              0.5555555555555556,
              "#d8576b"
             ],
             [
              0.6666666666666666,
              "#ed7953"
             ],
             [
              0.7777777777777778,
              "#fb9f3a"
             ],
             [
              0.8888888888888888,
              "#fdca26"
             ],
             [
              1,
              "#f0f921"
             ]
            ],
            "type": "histogram2dcontour"
           }
          ],
          "mesh3d": [
           {
            "colorbar": {
             "outlinewidth": 0,
             "ticks": ""
            },
            "type": "mesh3d"
           }
          ],
          "parcoords": [
           {
            "line": {
             "colorbar": {
              "outlinewidth": 0,
              "ticks": ""
             }
            },
            "type": "parcoords"
           }
          ],
          "pie": [
           {
            "automargin": true,
            "type": "pie"
           }
          ],
          "scatter": [
           {
            "marker": {
             "colorbar": {
              "outlinewidth": 0,
              "ticks": ""
             }
            },
            "type": "scatter"
           }
          ],
          "scatter3d": [
           {
            "line": {
             "colorbar": {
              "outlinewidth": 0,
              "ticks": ""
             }
            },
            "marker": {
             "colorbar": {
              "outlinewidth": 0,
              "ticks": ""
             }
            },
            "type": "scatter3d"
           }
          ],
          "scattercarpet": [
           {
            "marker": {
             "colorbar": {
              "outlinewidth": 0,
              "ticks": ""
             }
            },
            "type": "scattercarpet"
           }
          ],
          "scattergeo": [
           {
            "marker": {
             "colorbar": {
              "outlinewidth": 0,
              "ticks": ""
             }
            },
            "type": "scattergeo"
           }
          ],
          "scattergl": [
           {
            "marker": {
             "colorbar": {
              "outlinewidth": 0,
              "ticks": ""
             }
            },
            "type": "scattergl"
           }
          ],
          "scattermapbox": [
           {
            "marker": {
             "colorbar": {
              "outlinewidth": 0,
              "ticks": ""
             }
            },
            "type": "scattermapbox"
           }
          ],
          "scatterpolar": [
           {
            "marker": {
             "colorbar": {
              "outlinewidth": 0,
              "ticks": ""
             }
            },
            "type": "scatterpolar"
           }
          ],
          "scatterpolargl": [
           {
            "marker": {
             "colorbar": {
              "outlinewidth": 0,
              "ticks": ""
             }
            },
            "type": "scatterpolargl"
           }
          ],
          "scatterternary": [
           {
            "marker": {
             "colorbar": {
              "outlinewidth": 0,
              "ticks": ""
             }
            },
            "type": "scatterternary"
           }
          ],
          "surface": [
           {
            "colorbar": {
             "outlinewidth": 0,
             "ticks": ""
            },
            "colorscale": [
             [
              0,
              "#0d0887"
             ],
             [
              0.1111111111111111,
              "#46039f"
             ],
             [
              0.2222222222222222,
              "#7201a8"
             ],
             [
              0.3333333333333333,
              "#9c179e"
             ],
             [
              0.4444444444444444,
              "#bd3786"
             ],
             [
              0.5555555555555556,
              "#d8576b"
             ],
             [
              0.6666666666666666,
              "#ed7953"
             ],
             [
              0.7777777777777778,
              "#fb9f3a"
             ],
             [
              0.8888888888888888,
              "#fdca26"
             ],
             [
              1,
              "#f0f921"
             ]
            ],
            "type": "surface"
           }
          ],
          "table": [
           {
            "cells": {
             "fill": {
              "color": "#EBF0F8"
             },
             "line": {
              "color": "white"
             }
            },
            "header": {
             "fill": {
              "color": "#C8D4E3"
             },
             "line": {
              "color": "white"
             }
            },
            "type": "table"
           }
          ]
         },
         "layout": {
          "annotationdefaults": {
           "arrowcolor": "#2a3f5f",
           "arrowhead": 0,
           "arrowwidth": 1
          },
          "autotypenumbers": "strict",
          "coloraxis": {
           "colorbar": {
            "outlinewidth": 0,
            "ticks": ""
           }
          },
          "colorscale": {
           "diverging": [
            [
             0,
             "#8e0152"
            ],
            [
             0.1,
             "#c51b7d"
            ],
            [
             0.2,
             "#de77ae"
            ],
            [
             0.3,
             "#f1b6da"
            ],
            [
             0.4,
             "#fde0ef"
            ],
            [
             0.5,
             "#f7f7f7"
            ],
            [
             0.6,
             "#e6f5d0"
            ],
            [
             0.7,
             "#b8e186"
            ],
            [
             0.8,
             "#7fbc41"
            ],
            [
             0.9,
             "#4d9221"
            ],
            [
             1,
             "#276419"
            ]
           ],
           "sequential": [
            [
             0,
             "#0d0887"
            ],
            [
             0.1111111111111111,
             "#46039f"
            ],
            [
             0.2222222222222222,
             "#7201a8"
            ],
            [
             0.3333333333333333,
             "#9c179e"
            ],
            [
             0.4444444444444444,
             "#bd3786"
            ],
            [
             0.5555555555555556,
             "#d8576b"
            ],
            [
             0.6666666666666666,
             "#ed7953"
            ],
            [
             0.7777777777777778,
             "#fb9f3a"
            ],
            [
             0.8888888888888888,
             "#fdca26"
            ],
            [
             1,
             "#f0f921"
            ]
           ],
           "sequentialminus": [
            [
             0,
             "#0d0887"
            ],
            [
             0.1111111111111111,
             "#46039f"
            ],
            [
             0.2222222222222222,
             "#7201a8"
            ],
            [
             0.3333333333333333,
             "#9c179e"
            ],
            [
             0.4444444444444444,
             "#bd3786"
            ],
            [
             0.5555555555555556,
             "#d8576b"
            ],
            [
             0.6666666666666666,
             "#ed7953"
            ],
            [
             0.7777777777777778,
             "#fb9f3a"
            ],
            [
             0.8888888888888888,
             "#fdca26"
            ],
            [
             1,
             "#f0f921"
            ]
           ]
          },
          "colorway": [
           "#636efa",
           "#EF553B",
           "#00cc96",
           "#ab63fa",
           "#FFA15A",
           "#19d3f3",
           "#FF6692",
           "#B6E880",
           "#FF97FF",
           "#FECB52"
          ],
          "font": {
           "color": "#2a3f5f"
          },
          "geo": {
           "bgcolor": "white",
           "lakecolor": "white",
           "landcolor": "#E5ECF6",
           "showlakes": true,
           "showland": true,
           "subunitcolor": "white"
          },
          "hoverlabel": {
           "align": "left"
          },
          "hovermode": "closest",
          "mapbox": {
           "style": "light"
          },
          "paper_bgcolor": "white",
          "plot_bgcolor": "#E5ECF6",
          "polar": {
           "angularaxis": {
            "gridcolor": "white",
            "linecolor": "white",
            "ticks": ""
           },
           "bgcolor": "#E5ECF6",
           "radialaxis": {
            "gridcolor": "white",
            "linecolor": "white",
            "ticks": ""
           }
          },
          "scene": {
           "xaxis": {
            "backgroundcolor": "#E5ECF6",
            "gridcolor": "white",
            "gridwidth": 2,
            "linecolor": "white",
            "showbackground": true,
            "ticks": "",
            "zerolinecolor": "white"
           },
           "yaxis": {
            "backgroundcolor": "#E5ECF6",
            "gridcolor": "white",
            "gridwidth": 2,
            "linecolor": "white",
            "showbackground": true,
            "ticks": "",
            "zerolinecolor": "white"
           },
           "zaxis": {
            "backgroundcolor": "#E5ECF6",
            "gridcolor": "white",
            "gridwidth": 2,
            "linecolor": "white",
            "showbackground": true,
            "ticks": "",
            "zerolinecolor": "white"
           }
          },
          "shapedefaults": {
           "line": {
            "color": "#2a3f5f"
           }
          },
          "ternary": {
           "aaxis": {
            "gridcolor": "white",
            "linecolor": "white",
            "ticks": ""
           },
           "baxis": {
            "gridcolor": "white",
            "linecolor": "white",
            "ticks": ""
           },
           "bgcolor": "#E5ECF6",
           "caxis": {
            "gridcolor": "white",
            "linecolor": "white",
            "ticks": ""
           }
          },
          "title": {
           "x": 0.05
          },
          "xaxis": {
           "automargin": true,
           "gridcolor": "white",
           "linecolor": "white",
           "ticks": "",
           "title": {
            "standoff": 15
           },
           "zerolinecolor": "white",
           "zerolinewidth": 2
          },
          "yaxis": {
           "automargin": true,
           "gridcolor": "white",
           "linecolor": "white",
           "ticks": "",
           "title": {
            "standoff": 15
           },
           "zerolinecolor": "white",
           "zerolinewidth": 2
          }
         }
        }
       }
      },
      "text/html": [
       "<div>                            <div id=\"142cf1a1-525f-4f3b-bbdb-7733edecbd32\" class=\"plotly-graph-div\" style=\"height:525px; width:100%;\"></div>            <script type=\"text/javascript\">                require([\"plotly\"], function(Plotly) {                    window.PLOTLYENV=window.PLOTLYENV || {};                                    if (document.getElementById(\"142cf1a1-525f-4f3b-bbdb-7733edecbd32\")) {                    Plotly.newPlot(                        \"142cf1a1-525f-4f3b-bbdb-7733edecbd32\",                        [{\"line\":{\"color\":\"#636EFA\"},\"mode\":\"lines\",\"type\":\"scatter\",\"x\":[\"2021-09-14\",\"2021-09-15\",\"2021-09-16\",\"2021-09-17\",\"2021-09-18\",\"2021-09-20\",\"2021-09-21\",\"2021-09-22\",\"2021-09-23\",\"2021-09-24\",\"2021-09-25\",\"2021-09-26\",\"2021-09-27\",\"2021-09-28\",\"2021-09-29\",\"2021-09-30\",\"2021-10-01\"],\"y\":[2,5,3,5,2,32,29,39,107,76,25,41,65,148,133,122,59]}],                        {\"template\":{\"data\":{\"bar\":[{\"error_x\":{\"color\":\"#2a3f5f\"},\"error_y\":{\"color\":\"#2a3f5f\"},\"marker\":{\"line\":{\"color\":\"#E5ECF6\",\"width\":0.5},\"pattern\":{\"fillmode\":\"overlay\",\"size\":10,\"solidity\":0.2}},\"type\":\"bar\"}],\"barpolar\":[{\"marker\":{\"line\":{\"color\":\"#E5ECF6\",\"width\":0.5},\"pattern\":{\"fillmode\":\"overlay\",\"size\":10,\"solidity\":0.2}},\"type\":\"barpolar\"}],\"carpet\":[{\"aaxis\":{\"endlinecolor\":\"#2a3f5f\",\"gridcolor\":\"white\",\"linecolor\":\"white\",\"minorgridcolor\":\"white\",\"startlinecolor\":\"#2a3f5f\"},\"baxis\":{\"endlinecolor\":\"#2a3f5f\",\"gridcolor\":\"white\",\"linecolor\":\"white\",\"minorgridcolor\":\"white\",\"startlinecolor\":\"#2a3f5f\"},\"type\":\"carpet\"}],\"choropleth\":[{\"colorbar\":{\"outlinewidth\":0,\"ticks\":\"\"},\"type\":\"choropleth\"}],\"contour\":[{\"colorbar\":{\"outlinewidth\":0,\"ticks\":\"\"},\"colorscale\":[[0.0,\"#0d0887\"],[0.1111111111111111,\"#46039f\"],[0.2222222222222222,\"#7201a8\"],[0.3333333333333333,\"#9c179e\"],[0.4444444444444444,\"#bd3786\"],[0.5555555555555556,\"#d8576b\"],[0.6666666666666666,\"#ed7953\"],[0.7777777777777778,\"#fb9f3a\"],[0.8888888888888888,\"#fdca26\"],[1.0,\"#f0f921\"]],\"type\":\"contour\"}],\"contourcarpet\":[{\"colorbar\":{\"outlinewidth\":0,\"ticks\":\"\"},\"type\":\"contourcarpet\"}],\"heatmap\":[{\"colorbar\":{\"outlinewidth\":0,\"ticks\":\"\"},\"colorscale\":[[0.0,\"#0d0887\"],[0.1111111111111111,\"#46039f\"],[0.2222222222222222,\"#7201a8\"],[0.3333333333333333,\"#9c179e\"],[0.4444444444444444,\"#bd3786\"],[0.5555555555555556,\"#d8576b\"],[0.6666666666666666,\"#ed7953\"],[0.7777777777777778,\"#fb9f3a\"],[0.8888888888888888,\"#fdca26\"],[1.0,\"#f0f921\"]],\"type\":\"heatmap\"}],\"heatmapgl\":[{\"colorbar\":{\"outlinewidth\":0,\"ticks\":\"\"},\"colorscale\":[[0.0,\"#0d0887\"],[0.1111111111111111,\"#46039f\"],[0.2222222222222222,\"#7201a8\"],[0.3333333333333333,\"#9c179e\"],[0.4444444444444444,\"#bd3786\"],[0.5555555555555556,\"#d8576b\"],[0.6666666666666666,\"#ed7953\"],[0.7777777777777778,\"#fb9f3a\"],[0.8888888888888888,\"#fdca26\"],[1.0,\"#f0f921\"]],\"type\":\"heatmapgl\"}],\"histogram\":[{\"marker\":{\"pattern\":{\"fillmode\":\"overlay\",\"size\":10,\"solidity\":0.2}},\"type\":\"histogram\"}],\"histogram2d\":[{\"colorbar\":{\"outlinewidth\":0,\"ticks\":\"\"},\"colorscale\":[[0.0,\"#0d0887\"],[0.1111111111111111,\"#46039f\"],[0.2222222222222222,\"#7201a8\"],[0.3333333333333333,\"#9c179e\"],[0.4444444444444444,\"#bd3786\"],[0.5555555555555556,\"#d8576b\"],[0.6666666666666666,\"#ed7953\"],[0.7777777777777778,\"#fb9f3a\"],[0.8888888888888888,\"#fdca26\"],[1.0,\"#f0f921\"]],\"type\":\"histogram2d\"}],\"histogram2dcontour\":[{\"colorbar\":{\"outlinewidth\":0,\"ticks\":\"\"},\"colorscale\":[[0.0,\"#0d0887\"],[0.1111111111111111,\"#46039f\"],[0.2222222222222222,\"#7201a8\"],[0.3333333333333333,\"#9c179e\"],[0.4444444444444444,\"#bd3786\"],[0.5555555555555556,\"#d8576b\"],[0.6666666666666666,\"#ed7953\"],[0.7777777777777778,\"#fb9f3a\"],[0.8888888888888888,\"#fdca26\"],[1.0,\"#f0f921\"]],\"type\":\"histogram2dcontour\"}],\"mesh3d\":[{\"colorbar\":{\"outlinewidth\":0,\"ticks\":\"\"},\"type\":\"mesh3d\"}],\"parcoords\":[{\"line\":{\"colorbar\":{\"outlinewidth\":0,\"ticks\":\"\"}},\"type\":\"parcoords\"}],\"pie\":[{\"automargin\":true,\"type\":\"pie\"}],\"scatter\":[{\"marker\":{\"colorbar\":{\"outlinewidth\":0,\"ticks\":\"\"}},\"type\":\"scatter\"}],\"scatter3d\":[{\"line\":{\"colorbar\":{\"outlinewidth\":0,\"ticks\":\"\"}},\"marker\":{\"colorbar\":{\"outlinewidth\":0,\"ticks\":\"\"}},\"type\":\"scatter3d\"}],\"scattercarpet\":[{\"marker\":{\"colorbar\":{\"outlinewidth\":0,\"ticks\":\"\"}},\"type\":\"scattercarpet\"}],\"scattergeo\":[{\"marker\":{\"colorbar\":{\"outlinewidth\":0,\"ticks\":\"\"}},\"type\":\"scattergeo\"}],\"scattergl\":[{\"marker\":{\"colorbar\":{\"outlinewidth\":0,\"ticks\":\"\"}},\"type\":\"scattergl\"}],\"scattermapbox\":[{\"marker\":{\"colorbar\":{\"outlinewidth\":0,\"ticks\":\"\"}},\"type\":\"scattermapbox\"}],\"scatterpolar\":[{\"marker\":{\"colorbar\":{\"outlinewidth\":0,\"ticks\":\"\"}},\"type\":\"scatterpolar\"}],\"scatterpolargl\":[{\"marker\":{\"colorbar\":{\"outlinewidth\":0,\"ticks\":\"\"}},\"type\":\"scatterpolargl\"}],\"scatterternary\":[{\"marker\":{\"colorbar\":{\"outlinewidth\":0,\"ticks\":\"\"}},\"type\":\"scatterternary\"}],\"surface\":[{\"colorbar\":{\"outlinewidth\":0,\"ticks\":\"\"},\"colorscale\":[[0.0,\"#0d0887\"],[0.1111111111111111,\"#46039f\"],[0.2222222222222222,\"#7201a8\"],[0.3333333333333333,\"#9c179e\"],[0.4444444444444444,\"#bd3786\"],[0.5555555555555556,\"#d8576b\"],[0.6666666666666666,\"#ed7953\"],[0.7777777777777778,\"#fb9f3a\"],[0.8888888888888888,\"#fdca26\"],[1.0,\"#f0f921\"]],\"type\":\"surface\"}],\"table\":[{\"cells\":{\"fill\":{\"color\":\"#EBF0F8\"},\"line\":{\"color\":\"white\"}},\"header\":{\"fill\":{\"color\":\"#C8D4E3\"},\"line\":{\"color\":\"white\"}},\"type\":\"table\"}]},\"layout\":{\"annotationdefaults\":{\"arrowcolor\":\"#2a3f5f\",\"arrowhead\":0,\"arrowwidth\":1},\"autotypenumbers\":\"strict\",\"coloraxis\":{\"colorbar\":{\"outlinewidth\":0,\"ticks\":\"\"}},\"colorscale\":{\"diverging\":[[0,\"#8e0152\"],[0.1,\"#c51b7d\"],[0.2,\"#de77ae\"],[0.3,\"#f1b6da\"],[0.4,\"#fde0ef\"],[0.5,\"#f7f7f7\"],[0.6,\"#e6f5d0\"],[0.7,\"#b8e186\"],[0.8,\"#7fbc41\"],[0.9,\"#4d9221\"],[1,\"#276419\"]],\"sequential\":[[0.0,\"#0d0887\"],[0.1111111111111111,\"#46039f\"],[0.2222222222222222,\"#7201a8\"],[0.3333333333333333,\"#9c179e\"],[0.4444444444444444,\"#bd3786\"],[0.5555555555555556,\"#d8576b\"],[0.6666666666666666,\"#ed7953\"],[0.7777777777777778,\"#fb9f3a\"],[0.8888888888888888,\"#fdca26\"],[1.0,\"#f0f921\"]],\"sequentialminus\":[[0.0,\"#0d0887\"],[0.1111111111111111,\"#46039f\"],[0.2222222222222222,\"#7201a8\"],[0.3333333333333333,\"#9c179e\"],[0.4444444444444444,\"#bd3786\"],[0.5555555555555556,\"#d8576b\"],[0.6666666666666666,\"#ed7953\"],[0.7777777777777778,\"#fb9f3a\"],[0.8888888888888888,\"#fdca26\"],[1.0,\"#f0f921\"]]},\"colorway\":[\"#636efa\",\"#EF553B\",\"#00cc96\",\"#ab63fa\",\"#FFA15A\",\"#19d3f3\",\"#FF6692\",\"#B6E880\",\"#FF97FF\",\"#FECB52\"],\"font\":{\"color\":\"#2a3f5f\"},\"geo\":{\"bgcolor\":\"white\",\"lakecolor\":\"white\",\"landcolor\":\"#E5ECF6\",\"showlakes\":true,\"showland\":true,\"subunitcolor\":\"white\"},\"hoverlabel\":{\"align\":\"left\"},\"hovermode\":\"closest\",\"mapbox\":{\"style\":\"light\"},\"paper_bgcolor\":\"white\",\"plot_bgcolor\":\"#E5ECF6\",\"polar\":{\"angularaxis\":{\"gridcolor\":\"white\",\"linecolor\":\"white\",\"ticks\":\"\"},\"bgcolor\":\"#E5ECF6\",\"radialaxis\":{\"gridcolor\":\"white\",\"linecolor\":\"white\",\"ticks\":\"\"}},\"scene\":{\"xaxis\":{\"backgroundcolor\":\"#E5ECF6\",\"gridcolor\":\"white\",\"gridwidth\":2,\"linecolor\":\"white\",\"showbackground\":true,\"ticks\":\"\",\"zerolinecolor\":\"white\"},\"yaxis\":{\"backgroundcolor\":\"#E5ECF6\",\"gridcolor\":\"white\",\"gridwidth\":2,\"linecolor\":\"white\",\"showbackground\":true,\"ticks\":\"\",\"zerolinecolor\":\"white\"},\"zaxis\":{\"backgroundcolor\":\"#E5ECF6\",\"gridcolor\":\"white\",\"gridwidth\":2,\"linecolor\":\"white\",\"showbackground\":true,\"ticks\":\"\",\"zerolinecolor\":\"white\"}},\"shapedefaults\":{\"line\":{\"color\":\"#2a3f5f\"}},\"ternary\":{\"aaxis\":{\"gridcolor\":\"white\",\"linecolor\":\"white\",\"ticks\":\"\"},\"baxis\":{\"gridcolor\":\"white\",\"linecolor\":\"white\",\"ticks\":\"\"},\"bgcolor\":\"#E5ECF6\",\"caxis\":{\"gridcolor\":\"white\",\"linecolor\":\"white\",\"ticks\":\"\"}},\"title\":{\"x\":0.05},\"xaxis\":{\"automargin\":true,\"gridcolor\":\"white\",\"linecolor\":\"white\",\"ticks\":\"\",\"title\":{\"standoff\":15},\"zerolinecolor\":\"white\",\"zerolinewidth\":2},\"yaxis\":{\"automargin\":true,\"gridcolor\":\"white\",\"linecolor\":\"white\",\"ticks\":\"\",\"title\":{\"standoff\":15},\"zerolinecolor\":\"white\",\"zerolinewidth\":2}}}},                        {\"responsive\": true}                    ).then(function(){\n",
       "                            \n",
       "var gd = document.getElementById('142cf1a1-525f-4f3b-bbdb-7733edecbd32');\n",
       "var x = new MutationObserver(function (mutations, observer) {{\n",
       "        var display = window.getComputedStyle(gd).display;\n",
       "        if (!display || display === 'none') {{\n",
       "            console.log([gd, 'removed!']);\n",
       "            Plotly.purge(gd);\n",
       "            observer.disconnect();\n",
       "        }}\n",
       "}});\n",
       "\n",
       "// Listen for the removal of the full notebook cells\n",
       "var notebookContainer = gd.closest('#notebook-container');\n",
       "if (notebookContainer) {{\n",
       "    x.observe(notebookContainer, {childList: true});\n",
       "}}\n",
       "\n",
       "// Listen for the clearing of the current output cell\n",
       "var outputEl = gd.closest('.output');\n",
       "if (outputEl) {{\n",
       "    x.observe(outputEl, {childList: true});\n",
       "}}\n",
       "\n",
       "                        })                };                });            </script>        </div>"
      ]
     },
     "metadata": {},
     "output_type": "display_data"
    }
   ],
   "source": [
    "import numpy as np\n",
    "import pandas as pd\n",
    "import plotly.express as px\n",
    "import plotly.graph_objects as go\n",
    "\n",
    "# plotly.graph_objects\n",
    "colors = px.colors.qualitative.Plotly\n",
    "fig = go.Figure()\n",
    "fig.add_traces(go.Scatter(x=xx.reset_index()[\"date\"] ,y = xx['tweet'], mode = 'lines', line=dict(color=colors[0])))\n",
    "fig.show()"
   ]
  },
  {
   "cell_type": "code",
   "execution_count": 70,
   "id": "5079b824",
   "metadata": {},
   "outputs": [
    {
     "data": {
      "text/plain": [
       "0      $CEI everything is going to be very ok. Z-DADD...\n",
       "1                               $CEI Let’s close over $4\n",
       "2      $CEI I’m riding this with you guys. We still h...\n",
       "3                                         $CEI PAYtience\n",
       "4                          $CEI  https://t.co/4n5kXklRoI\n",
       "                             ...                        \n",
       "888                                     Only if you held\n",
       "889    $DATS I want $30+ with all the upcoming cataly...\n",
       "890                        $CEI Over $2 soon. No brainer\n",
       "891                      $CEI We will destroy the shorts\n",
       "892                                  This is how you CEO\n",
       "Name: tweet, Length: 893, dtype: object"
      ]
     },
     "execution_count": 70,
     "metadata": {},
     "output_type": "execute_result"
    }
   ],
   "source": [
    "df.tweet"
   ]
  },
  {
   "cell_type": "code",
   "execution_count": 76,
   "id": "a205e47e",
   "metadata": {},
   "outputs": [
    {
     "data": {
      "text/plain": [
       "0      $CEI everything is going to be very ok. Z-DADD...\n",
       "1                               $CEI Let’s close over $4\n",
       "2      $CEI I’m riding this with you guys. We still h...\n",
       "3                                         $CEI PAYtience\n",
       "4                          $CEI  https://t.co/4n5kXklRoI\n",
       "                             ...                        \n",
       "878    Awwww I haven’t sold one share $CEI. See you a...\n",
       "887                                $CEI is the next FCEL\n",
       "889    $DATS I want $30+ with all the upcoming cataly...\n",
       "890                        $CEI Over $2 soon. No brainer\n",
       "891                      $CEI We will destroy the shorts\n",
       "Name: tweet, Length: 233, dtype: object"
      ]
     },
     "execution_count": 76,
     "metadata": {},
     "output_type": "execute_result"
    }
   ],
   "source": [
    "df[df.tweet.str.contains('\\$')]['tweet']"
   ]
  },
  {
   "cell_type": "code",
   "execution_count": 122,
   "id": "d4702798",
   "metadata": {},
   "outputs": [],
   "source": [
    "df[\"tickers\"] = df.tweet.apply(lambda x: re.findall(r'\\$(\\w+)', x))"
   ]
  },
  {
   "cell_type": "code",
   "execution_count": 125,
   "id": "a9fa2cbf",
   "metadata": {
    "scrolled": true
   },
   "outputs": [],
   "source": [
    "df_date = df[df.tickers.notnull()][[\"tickers\", \"tweet\",\"date\"]]"
   ]
  },
  {
   "cell_type": "code",
   "execution_count": 128,
   "id": "382c173f",
   "metadata": {},
   "outputs": [],
   "source": [
    "df_date.sort_values(\"date\", ascending=False, inplace=True)"
   ]
  },
  {
   "cell_type": "code",
   "execution_count": 130,
   "id": "6a8063b3",
   "metadata": {},
   "outputs": [
    {
     "data": {
      "text/plain": [
       "'$CEI everything is going to be very ok. Z-DADDY selling $10-20  https://t.co/4wX1Gylsiq'"
      ]
     },
     "execution_count": 130,
     "metadata": {},
     "output_type": "execute_result"
    }
   ],
   "source": [
    "df_date.tweet.loc[0]"
   ]
  },
  {
   "cell_type": "code",
   "execution_count": null,
   "id": "872c72e0",
   "metadata": {},
   "outputs": [],
   "source": []
  }
 ],
 "metadata": {
  "interpreter": {
   "hash": "31f2aee4e71d21fbe5cf8b01ff0e069b9275f58929596ceb00d14d90e3e16cd6"
  },
  "kernelspec": {
   "display_name": "Python 3 (ipykernel)",
   "language": "python",
   "name": "python3"
  },
  "language_info": {
   "codemirror_mode": {
    "name": "ipython",
    "version": 3
   },
   "file_extension": ".py",
   "mimetype": "text/x-python",
   "name": "python",
   "nbconvert_exporter": "python",
   "pygments_lexer": "ipython3",
   "version": "3.8.9"
  }
 },
 "nbformat": 4,
 "nbformat_minor": 5
}
